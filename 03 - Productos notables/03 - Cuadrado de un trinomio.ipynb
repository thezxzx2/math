{
 "cells": [
  {
   "cell_type": "markdown",
   "metadata": {},
   "source": [
    "# Cuadrado de un trinomio\n",
    "\n",
    "El desarrollo de la expresión: $(a + b + c)^{2}$ es igual a la suma de los cuadrados de cada uno de los términos, más los dobles productos de las combinaciones entre ellos.\n",
    "\n",
    "$$(a + b + c)^{2} = a^{2} + b^{2} + c^{2} + 2ab + 2ac + 2bc$$\n",
    "\n",
    "*Demostración*\n",
    "\n",
    "La expresión $(a + b + c)^{2}$ es equivalente al producto $(a + b + c)(a + b + c)$, entonces:\n",
    "\n",
    "$$(a + b + c)^{2} = (a + b + c)(a + b + c) = a^{2} + ab + ac + ab + b^{2} + bc + ac + bc + c^{2}$$\n",
    "\n",
    "Al simplificar los términos semejantes:\n",
    "\n",
    "$$(a + b + c)^{2} = a^{2} + b^{2} + c^{2} + 2ab + 2ac + 2bc$$\n",
    "\n",
    "##### Ejemplos:\n",
    "\n",
    "1. Desarrolla $(x + 2y + 3z)^{3}$\n",
    "\n",
    "**Solución**:\n",
    "\n",
    "Se aplica la fórmula y se obtiene como resultado:\n",
    "\n",
    "$$\n",
    "(x + 2y + 3z)^{2} = (x)^{2} + (2y)^{2} + (3z)^{2} + 2(x)(2x) + 2(x)(3z) + 2(2y)(3z) \\\\\n",
    "= x^{2} + 4y^{2} + 9z^{2} + 4xy + 6xz + 12yz\n",
    "$$\n",
    "\n",
    "2. Obtén el resultado de $(4m - 7n - 5)^{2}$\n",
    "\n",
    "**Solución**:\n",
    "\n",
    "El trinomio se expresa de la siguiente manera: $(4, - 7n - 5)^{2} = (4m + (-7n) + (-5))^{2}$ y se aplica la fórmula para obtener como resultado:\n",
    "\n",
    "$$\n",
    "(4m - 7n - 5)^{2} = (4m)^{2} + (-7n)^{2} + (-5)^{2} + 2(4m)(-7n) + 2(4m) (-5) + 2(-7n)(-5) \\\\\n",
    "= 16m^{2} + 49n^{2} + 25 - 56mn - 40m + 70n\n",
    "$$"
   ]
  },
  {
   "cell_type": "markdown",
   "metadata": {},
   "source": [
    "##### Ejercicio 34:\n",
    "\n",
    "1. $(x + 8)^{2}$\n",
    "2. $(m - 10)^{2}$\n",
    "3. $(a - 3)^{2}$\n",
    "\n",
    "___\n",
    "\n",
    "15. $\\left(\\frac{5}{4}x  - \\frac{1}{3}\\right)^{2}$\n",
    "16. $(3ax - 1)^{2}$\n",
    "17. $(mn + 8a)^{2}$\n",
    "\n",
    "___\n",
    "\n",
    "37. $(0.6m^{2x} - 0.5n^{4})^{2}$\n",
    "38. $(6x^{3m - 2} + 5y^{4m}z^{3})^{2}$\n",
    "39. $(0.3x^{2a} - 0.8y^{b - 1})^{2}$\n",
    "\n",
    "___\n",
    "\n",
    "55. $\\left(\\frac{2}{x} + \\frac{3}{y} - \\frac{1}{z}\\right)^{2}$\n",
    "56. $(a^{x} - b^{y} + c^{z})^{2}$\n",
    "57. $(a^{x + 1} - 2a^{x} - a^{x - 1})^{2}$"
   ]
  },
  {
   "cell_type": "markdown",
   "metadata": {},
   "source": [
    "##### Ejercicio 34 (Respuestas):"
   ]
  },
  {
   "cell_type": "code",
   "execution_count": 12,
   "metadata": {},
   "outputs": [
    {
     "name": "stdout",
     "output_type": "stream",
     "text": [
      "Ejercicio 1\n"
     ]
    },
    {
     "data": {
      "text/latex": [
       "$\\displaystyle x^{2} + 16 x + 64$"
      ],
      "text/plain": [
       "x**2 + 16*x + 64"
      ]
     },
     "metadata": {},
     "output_type": "display_data"
    },
    {
     "name": "stdout",
     "output_type": "stream",
     "text": [
      "Ejercicio 2\n"
     ]
    },
    {
     "data": {
      "text/latex": [
       "$\\displaystyle m^{2} - 20 m + 100$"
      ],
      "text/plain": [
       "m**2 - 20*m + 100"
      ]
     },
     "metadata": {},
     "output_type": "display_data"
    },
    {
     "name": "stdout",
     "output_type": "stream",
     "text": [
      "Ejercicio 3\n"
     ]
    },
    {
     "data": {
      "text/latex": [
       "$\\displaystyle a^{2} - 6 a + 9$"
      ],
      "text/plain": [
       "a**2 - 6*a + 9"
      ]
     },
     "metadata": {},
     "output_type": "display_data"
    },
    {
     "name": "stdout",
     "output_type": "stream",
     "text": [
      "Ejercicio 15\n"
     ]
    },
    {
     "data": {
      "text/latex": [
       "$\\displaystyle \\frac{25 x^{2}}{16} - \\frac{5 x}{6} + \\frac{1}{9}$"
      ],
      "text/plain": [
       "25*x**2/16 - 5*x/6 + 1/9"
      ]
     },
     "metadata": {},
     "output_type": "display_data"
    },
    {
     "name": "stdout",
     "output_type": "stream",
     "text": [
      "Ejercicio 16\n"
     ]
    },
    {
     "data": {
      "text/latex": [
       "$\\displaystyle 9 a^{2} x^{2} - 6 a x + 1$"
      ],
      "text/plain": [
       "9*a**2*x**2 - 6*a*x + 1"
      ]
     },
     "metadata": {},
     "output_type": "display_data"
    },
    {
     "name": "stdout",
     "output_type": "stream",
     "text": [
      "Ejercicio 17\n"
     ]
    },
    {
     "data": {
      "text/latex": [
       "$\\displaystyle 64 a^{2} + 16 a m n + m^{2} n^{2}$"
      ],
      "text/plain": [
       "64*a**2 + 16*a*m*n + m**2*n**2"
      ]
     },
     "metadata": {},
     "output_type": "display_data"
    },
    {
     "name": "stdout",
     "output_type": "stream",
     "text": [
      "Ejercicio 37\n"
     ]
    },
    {
     "data": {
      "text/latex": [
       "$\\displaystyle 0.36 m^{4 x} - 0.6 m^{2 x} n^{4} + 0.25 n^{8}$"
      ],
      "text/plain": [
       "0.36*m**(4*x) - 0.6*m**(2*x)*n**4 + 0.25*n**8"
      ]
     },
     "metadata": {},
     "output_type": "display_data"
    },
    {
     "name": "stdout",
     "output_type": "stream",
     "text": [
      "Ejercicio 38\n"
     ]
    },
    {
     "data": {
      "text/latex": [
       "$\\displaystyle 60 x^{3 m - 2} y^{4 m} z^{3} + 36 x^{6 m - 4} + 25 y^{8 m} z^{6}$"
      ],
      "text/plain": [
       "60*x**(3*m - 2)*y**(4*m)*z**3 + 36*x**(6*m - 4) + 25*y**(8*m)*z**6"
      ]
     },
     "metadata": {},
     "output_type": "display_data"
    },
    {
     "name": "stdout",
     "output_type": "stream",
     "text": [
      "Ejercicio 39\n"
     ]
    },
    {
     "data": {
      "text/latex": [
       "$\\displaystyle 0.09 x^{4 a} - 0.48 x^{2 a} y^{b - 1} + 0.64 y^{2 b - 2}$"
      ],
      "text/plain": [
       "0.09*x**(4*a) - 0.48*x**(2*a)*y**(b - 1) + 0.64*y**(2*b - 2)"
      ]
     },
     "metadata": {},
     "output_type": "display_data"
    },
    {
     "name": "stdout",
     "output_type": "stream",
     "text": [
      "Ejercicio 55\n"
     ]
    },
    {
     "data": {
      "text/latex": [
       "$\\displaystyle \\frac{1}{z^{2}} - \\frac{6}{y z} + \\frac{9}{y^{2}} - \\frac{4}{x z} + \\frac{12}{x y} + \\frac{4}{x^{2}}$"
      ],
      "text/plain": [
       "z**(-2) - 6/(y*z) + 9/y**2 - 4/(x*z) + 12/(x*y) + 4/x**2"
      ]
     },
     "metadata": {},
     "output_type": "display_data"
    },
    {
     "name": "stdout",
     "output_type": "stream",
     "text": [
      "Ejercicio 56\n"
     ]
    },
    {
     "data": {
      "text/latex": [
       "$\\displaystyle a^{2 x} - 2 a^{x} b^{y} + 2 a^{x} c^{z} + b^{2 y} - 2 b^{y} c^{z} + c^{2 z}$"
      ],
      "text/plain": [
       "a**(2*x) - 2*a**x*b**y + 2*a**x*c**z + b**(2*y) - 2*b**y*c**z + c**(2*z)"
      ]
     },
     "metadata": {},
     "output_type": "display_data"
    },
    {
     "name": "stdout",
     "output_type": "stream",
     "text": [
      "Ejercicio 57\n"
     ]
    },
    {
     "data": {
      "text/latex": [
       "$\\displaystyle 4 a^{2 x} + 4 a^{x} a^{x - 1} - 4 a^{x} a^{x + 1} - 2 a^{x - 1} a^{x + 1} + a^{2 x - 2} + a^{2 x + 2}$"
      ],
      "text/plain": [
       "4*a**(2*x) + 4*a**x*a**(x - 1) - 4*a**x*a**(x + 1) - 2*a**(x - 1)*a**(x + 1) + a**(2*x - 2) + a**(2*x + 2)"
      ]
     },
     "metadata": {},
     "output_type": "display_data"
    }
   ],
   "source": [
    "import sympy as sp\n",
    "\n",
    "a, b, c, m, n, x, y, z = sp.symbols(\"a b c m n x y z\")\n",
    "\n",
    "ejercicios = []\n",
    "\n",
    "ejercicio1 = (x + 8)**2\n",
    "ejercicio2 = (m - 10)**2\n",
    "ejercicio3 = (a - 3)**2\n",
    "\n",
    "ejercicio15 = (sp.Rational(5, 4)*x - sp.Rational(1, 3))**2\n",
    "ejercicio16 = (3*a*x - 1)**2\n",
    "ejercicio17 = (m*n + 8*a)**2\n",
    "\n",
    "ejercicio37 = (0.6*m**(2*x) - 0.5*n**4)**2\n",
    "ejercicio38 = (6*x**(3*m - 2) + 5*y**(4*m) * z**3)**2\n",
    "ejercicio39 = (0.3*x**(2*a) - 0.8*y**(b - 1))**2\n",
    "\n",
    "ejercicio55 = (2/x + 3/y - 1/z)**2\n",
    "ejercicio56 = (a**x - b**y + c**z)**2\n",
    "ejercicio57 = (a**(x + 1) - 2*a**x - a**(x - 1))**2\n",
    "\n",
    "ejercicios = [\n",
    "    (\"Ejercicio 1\", ejercicio1),\n",
    "    (\"Ejercicio 2\", ejercicio2),\n",
    "    (\"Ejercicio 3\", ejercicio3),\n",
    "    (\"Ejercicio 15\", ejercicio15),\n",
    "    (\"Ejercicio 16\", ejercicio16),\n",
    "    (\"Ejercicio 17\", ejercicio17),\n",
    "    (\"Ejercicio 37\", ejercicio37),\n",
    "    (\"Ejercicio 38\", ejercicio38),\n",
    "    (\"Ejercicio 39\", ejercicio39),\n",
    "    (\"Ejercicio 55\", ejercicio55),\n",
    "    (\"Ejercicio 56\", ejercicio56),\n",
    "    (\"Ejercicio 57\", ejercicio57),\n",
    "]\n",
    "\n",
    "for ejercicio in ejercicios:\n",
    "    print(ejercicio[0])\n",
    "    display(ejercicio[1].expand())"
   ]
  }
 ],
 "metadata": {
  "kernelspec": {
   "display_name": "Python 3",
   "language": "python",
   "name": "python3"
  },
  "language_info": {
   "codemirror_mode": {
    "name": "ipython",
    "version": 3
   },
   "file_extension": ".py",
   "mimetype": "text/x-python",
   "name": "python",
   "nbconvert_exporter": "python",
   "pygments_lexer": "ipython3",
   "version": "3.10.12"
  }
 },
 "nbformat": 4,
 "nbformat_minor": 2
}
