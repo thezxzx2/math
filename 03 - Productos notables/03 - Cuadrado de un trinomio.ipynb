{
 "cells": [
  {
   "cell_type": "markdown",
   "metadata": {},
   "source": [
    "# Cuadrado de un trinomio\n",
    "\n",
    "El desarrollo de la expresión: $(a + b + c)^{2}$ es igual a la suma de los cuadrados de cada uno de los términos, más los dobles productos de las combinaciones entre ellos.\n",
    "\n",
    "$$(a + b + c)^{2} = a^{2} + b^{2} + c^{2} + 2ab + 2ac + 2bc$$\n",
    "\n",
    "*Demostración*\n",
    "\n",
    "La expresión $(a + b + c)^{2}$ es equivalente al producto $(a + b + c)(a + b + c)$, entonces:\n",
    "\n",
    "$$(a + b + c)^{2} = (a + b + c)(a + b + c) = a^{2} + ab + ac + ab + b^{2} + bc + ac + bc + c^{2}$$\n",
    "\n",
    "Al simplificar los términos semejantes:\n",
    "\n",
    "$$(a + b + c)^{2} = a^{2} + b^{2} + c^{2} + 2ab + 2ac + 2bc$$\n",
    "\n",
    "##### Ejemplos:\n",
    "\n",
    "1. Desarrolla $(x + 2y + 3z)^{3}$\n",
    "\n",
    "**Solución**:\n",
    "\n",
    "Se aplica la fórmula y se obtiene como resultado:\n",
    "\n",
    "$$\n",
    "(x + 2y + 3z)^{2} = (x)^{2} + (2y)^{2} + (3z)^{2} + 2(x)(2x) + 2(x)(3z) + 2(2y)(3z) \\\\\n",
    "= x^{2} + 4y^{2} + 9z^{2} + 4xy + 6xz + 12yz\n",
    "$$\n",
    "\n",
    "2. Obtén el resultado de $(4m - 7n - 5)^{2}$\n",
    "\n",
    "**Solución**:\n",
    "\n",
    "El trinomio se expresa de la siguiente manera: $(4, - 7n - 5)^{2} = (4m + (-7n) + (-5))^{2}$ y se aplica la fórmula para obtener como resultado:\n",
    "\n",
    "$$\n",
    "(4m - 7n - 5)^{2} = (4m)^{2} + (-7n)^{2} + (-5)^{2} + 2(4m)(-7n) + 2(4m) (-5) + 2(-7n)(-5) \\\\\n",
    "= 16m^{2} + 49n^{2} + 25 - 56mn - 40m + 70n\n",
    "$$"
   ]
  },
  {
   "cell_type": "markdown",
   "metadata": {},
   "source": []
  },
  {
   "cell_type": "code",
   "execution_count": null,
   "metadata": {},
   "outputs": [],
   "source": []
  }
 ],
 "metadata": {
  "language_info": {
   "name": "python"
  }
 },
 "nbformat": 4,
 "nbformat_minor": 2
}
