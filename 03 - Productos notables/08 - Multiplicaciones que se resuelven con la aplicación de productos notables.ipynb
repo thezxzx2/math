{
 "cells": [
  {
   "cell_type": "markdown",
   "metadata": {},
   "source": [
    "# Multiplicaciones que se resuelven con la aplicación de productos notables\n",
    "\n",
    "Se utiliza para resolver una multiplicación de polinomios, siempre que las características de los factores permitan aplicar las reglas de los productos notables. Se agrupan las expresiones y se desarrolla el producto notable que corresponda a las características de los mismos; con los factores resultantes se aplica el mismo procedimiento hasta obtener el resultado.\n",
    "\n",
    "##### Ejemplos:\n",
    "\n",
    "1. Desarrolla el siguiente producto: $(x + 2)(x - 2)(x^{2} + 3)$\n",
    "\n",
    "**Solución**\n",
    "\n",
    "Se eligen los factores $(x + 2)(x -2)$, los que se resuelven como un producto de binomios conjugados:\n",
    "\n",
    "$$(x + 2)(x - 2) = x^{2} - 4$$\n",
    "\n",
    "Entonces el producto inicial se representa como:\n",
    "\n",
    "$$(x + 2)(x - 2)(x^{2} + 3) = (x^{2} - 4)(x^{2} + 3)$$\n",
    "\n",
    "Por último, se aplica el producto de binomios con término común:\n",
    "\n",
    "$$\n",
    "(x^{2} - 4)(x^{2} +3 ) = (x^{2})^{2} + (-4 + 3)(x^{2}) + (-4)(3) \\\\\n",
    "= x^{4} - x^{2} - 12\n",
    "$$\n",
    "\n",
    "Por tanto: $(x + 2)(x-2)(x^{2} + 3) = x^{4} - x^{2} - 12$\n",
    "\n",
    "2. Desarrolla el siguiente producto: $(x + 1)(x + 2)(x - 1)(x -2)$\n",
    "\n",
    "**Solución**:\n",
    "\n",
    "De acuerdo con la elección de los facotres es como se procede a aplicar el producto notable, en este caso reagruparemos los factores de la siguiente manera:\n",
    "\n",
    "$$(x + 1)(x - 1)(x + 2)(x - 2)$$\n",
    "\n",
    "Al desarrollar mediante binomios conjugados, se obtiene:\n",
    "\n",
    "$$\n",
    "(x + 1)(x - 1) = x^{2} - 1 \\hspace{3cm} (x + 2)(x - 2) = x^{2} - 4\n",
    "$$\n",
    "\n",
    "La expresión se transforma en:\n",
    "\n",
    "$$(x + 1)(x - 1)(x + 2)(x - 2) = (x^{2} - 1)(x^{2} - 4)$$\n",
    "\n",
    "Por último se aplican binomios con término común:\n",
    "\n",
    "$$\n",
    "= (x^{2})^{2} + (-1 - 4)x^{2} + (-1)(-4) \\\\\n",
    "= x^{4} - 5x^{2} + 4\n",
    "$$\n",
    "\n",
    "Por tanto: $(x + 1)(x + 2)(x - 1)(x - 2) = x^{4} - 5x^{2} + 4$\n",
    "\n",
    "3. Resuelve el siguiente producto: $(x + 3)^{2} (x - 3)^{2}$\n",
    "\n",
    "**Solución**:\n",
    "\n",
    "Se desarrollan los cuadrados de los binomios:\n",
    "\n",
    "$$(x + 3)^{2} = x^{2} + 6x + 9; (x - 3)^{2} = x^{2} - 6x + 9$$\n",
    "\n",
    "Luego:\n",
    "\n",
    "$$(x + 3)^{2} (x - 3)^{2} = (x^{2} + 6x + 9)(x^{2} - 6x + 9) = (x^{2} + 9 + 6x)(x^{2} + 9 - 6x)$$\n",
    "\n",
    "Al aplicar binomios conjugados se determina que:\n",
    "\n",
    "$$\n",
    "(x^{2} + 9 + 6x)(x^{2} + 9 - 6x) = [(x^{2} + 9)^{2} - (6x)^{2}] = (x^{2})^{2} + 2(x^{2})(9) + (9)^{2} - 36x^{2} \\\\\n",
    "= x^{4} + 18x^{2} + 81 - 36x^{2} \\\\\n",
    "= x^{4} - 18x^{2} + 81\n",
    "$$\n",
    "\n",
    "Por tanto, el resultado es: $x^{4} - 18x^{2} + 81$"
   ]
  },
  {
   "cell_type": "markdown",
   "metadata": {},
   "source": [
    "##### Ejercicio 38\n",
    "\n",
    "1. $(x - 1)(x + 1)(x^{2} + 2)$\n",
    "2. $(m + 8)(m - 8)(m + 1)(m - 1)$\n",
    "3. $(3x - 5)(3x + 2)(9x^{2} - 9x - 10)$\n",
    "4. $(5x - 6)^{2} (5x + 6)^{2}$\n",
    "5. $(m + 2)^{3} (m - 2)^{3}$\n",
    "\n",
    "___\n",
    "\n",
    "10. $(9 - 6x^{3})(6x^{3} + 9)(81 + 36x^{6})$\n",
    "11. $(x - 4)(x + 5)(x + 4)(x - 5)$\n",
    "12. $(\\frac{2}{3}x^{4} - \\frac{1}{5}y^{5})^{2} (\\frac{2}{3}x^{5} + \\frac{1}{5}y^{5})^{2}$\n",
    "13. $[(2x - y)(2x + y)(4x^{2} + y^{2})]^{2}$\n",
    "14. $(m^{2} - m - 1)(m^{2} + m + 1)$\n",
    "15. $(x - y)(x^{2} + y^{2})(x + y)$\n",
    "\n",
    "___\n",
    "\n",
    "18. $(x + 1)(x - 3)(x - 1)(x + 3)$\n",
    "19. $(m^{4} + 5)(m - 2)(m^{2} + 4)(m + 2)$\n",
    "20. $[(n + 2)(n - 2)(n^{2} + 4)]^{3}$"
   ]
  },
  {
   "cell_type": "markdown",
   "metadata": {},
   "source": [
    "##### Ejercicio 38 (Respuestas):"
   ]
  },
  {
   "cell_type": "code",
   "execution_count": 9,
   "metadata": {},
   "outputs": [
    {
     "name": "stdout",
     "output_type": "stream",
     "text": [
      "Ejercicio 1\n"
     ]
    },
    {
     "data": {
      "text/latex": [
       "$\\displaystyle x^{4} + x^{2} - 2$"
      ],
      "text/plain": [
       "x**4 + x**2 - 2"
      ]
     },
     "metadata": {},
     "output_type": "display_data"
    },
    {
     "name": "stdout",
     "output_type": "stream",
     "text": [
      "Ejercicio 2\n"
     ]
    },
    {
     "data": {
      "text/latex": [
       "$\\displaystyle m^{4} - 65 m^{2} + 64$"
      ],
      "text/plain": [
       "m**4 - 65*m**2 + 64"
      ]
     },
     "metadata": {},
     "output_type": "display_data"
    },
    {
     "name": "stdout",
     "output_type": "stream",
     "text": [
      "Ejercicio 3\n"
     ]
    },
    {
     "data": {
      "text/latex": [
       "$\\displaystyle 81 x^{4} - 162 x^{3} - 99 x^{2} + 180 x + 100$"
      ],
      "text/plain": [
       "81*x**4 - 162*x**3 - 99*x**2 + 180*x + 100"
      ]
     },
     "metadata": {},
     "output_type": "display_data"
    },
    {
     "name": "stdout",
     "output_type": "stream",
     "text": [
      "Ejercicio 4\n"
     ]
    },
    {
     "data": {
      "text/latex": [
       "$\\displaystyle 625 x^{4} - 1800 x^{2} + 1296$"
      ],
      "text/plain": [
       "625*x**4 - 1800*x**2 + 1296"
      ]
     },
     "metadata": {},
     "output_type": "display_data"
    },
    {
     "name": "stdout",
     "output_type": "stream",
     "text": [
      "Ejercicio 5\n"
     ]
    },
    {
     "data": {
      "text/latex": [
       "$\\displaystyle m^{6} - 12 m^{4} + 48 m^{2} - 64$"
      ],
      "text/plain": [
       "m**6 - 12*m**4 + 48*m**2 - 64"
      ]
     },
     "metadata": {},
     "output_type": "display_data"
    },
    {
     "name": "stdout",
     "output_type": "stream",
     "text": [
      "Ejercicio 10\n"
     ]
    },
    {
     "data": {
      "text/latex": [
       "$\\displaystyle 6561 - 1296 x^{12}$"
      ],
      "text/plain": [
       "6561 - 1296*x**12"
      ]
     },
     "metadata": {},
     "output_type": "display_data"
    },
    {
     "name": "stdout",
     "output_type": "stream",
     "text": [
      "Ejercicio 11\n"
     ]
    },
    {
     "data": {
      "text/latex": [
       "$\\displaystyle x^{4} - 41 x^{2} + 400$"
      ],
      "text/plain": [
       "x**4 - 41*x**2 + 400"
      ]
     },
     "metadata": {},
     "output_type": "display_data"
    },
    {
     "name": "stdout",
     "output_type": "stream",
     "text": [
      "Ejercicio 12\n"
     ]
    },
    {
     "data": {
      "text/latex": [
       "$\\displaystyle \\frac{16 x^{16}}{81} - \\frac{8 x^{8} y^{10}}{225} + \\frac{y^{20}}{625}$"
      ],
      "text/plain": [
       "16*x**16/81 - 8*x**8*y**10/225 + y**20/625"
      ]
     },
     "metadata": {},
     "output_type": "display_data"
    },
    {
     "name": "stdout",
     "output_type": "stream",
     "text": [
      "Ejercicio 13\n"
     ]
    },
    {
     "data": {
      "text/latex": [
       "$\\displaystyle 256 x^{12} - 128 x^{10} y^{2} + 16 x^{8} y^{4} + 128 x^{8} y^{2} - 64 x^{6} y^{4} + 8 x^{4} y^{6} + 16 x^{4} y^{4} - 8 x^{2} y^{6} + y^{8}$"
      ],
      "text/plain": [
       "256*x**12 - 128*x**10*y**2 + 16*x**8*y**4 + 128*x**8*y**2 - 64*x**6*y**4 + 8*x**4*y**6 + 16*x**4*y**4 - 8*x**2*y**6 + y**8"
      ]
     },
     "metadata": {},
     "output_type": "display_data"
    },
    {
     "name": "stdout",
     "output_type": "stream",
     "text": [
      "Ejercicio 14\n"
     ]
    },
    {
     "data": {
      "text/latex": [
       "$\\displaystyle m^{4} - m^{2} - 2 m - 1$"
      ],
      "text/plain": [
       "m**4 - m**2 - 2*m - 1"
      ]
     },
     "metadata": {},
     "output_type": "display_data"
    },
    {
     "name": "stdout",
     "output_type": "stream",
     "text": [
      "Ejercicio 15\n"
     ]
    },
    {
     "data": {
      "text/latex": [
       "$\\displaystyle x^{4} - y^{4}$"
      ],
      "text/plain": [
       "x**4 - y**4"
      ]
     },
     "metadata": {},
     "output_type": "display_data"
    },
    {
     "name": "stdout",
     "output_type": "stream",
     "text": [
      "Ejercicio 18\n"
     ]
    },
    {
     "data": {
      "text/latex": [
       "$\\displaystyle x^{4} - 10 x^{2} + 9$"
      ],
      "text/plain": [
       "x**4 - 10*x**2 + 9"
      ]
     },
     "metadata": {},
     "output_type": "display_data"
    },
    {
     "name": "stdout",
     "output_type": "stream",
     "text": [
      "Ejercicio 19\n"
     ]
    },
    {
     "data": {
      "text/latex": [
       "$\\displaystyle m^{8} - 11 m^{4} - 80$"
      ],
      "text/plain": [
       "m**8 - 11*m**4 - 80"
      ]
     },
     "metadata": {},
     "output_type": "display_data"
    },
    {
     "name": "stdout",
     "output_type": "stream",
     "text": [
      "Ejercicio 20\n"
     ]
    },
    {
     "data": {
      "text/latex": [
       "$\\displaystyle n^{12} - 48 n^{8} + 768 n^{4} - 4096$"
      ],
      "text/plain": [
       "n**12 - 48*n**8 + 768*n**4 - 4096"
      ]
     },
     "metadata": {},
     "output_type": "display_data"
    }
   ],
   "source": [
    "import sympy as sp\n",
    "\n",
    "ejercicios = []\n",
    "\n",
    "m, n, x, y = sp.symbols(\"m n x y\")\n",
    "\n",
    "ejercicio1 = (x - 1)*(x + 1)*(x**2 + 2)\n",
    "ejercicio2 = (m + 8)*(m - 8)*(m + 1)*(m - 1)\n",
    "ejercicio3 = (3*x - 5)*(3*x + 2)*(9*x**2 - 9*x - 10)\n",
    "ejercicio4 = (5*x - 6)**2 * (5*x + 6)**2\n",
    "ejercicio5 = (m + 2)**3 * (m - 2)**3\n",
    "\n",
    "ejercicio10 = (9 - 6*x**3)*(6*x**3 + 9)*(81 + 36*x**6)\n",
    "ejercicio11 = (x - 4)*(x + 5)*(x + 4)*(x - 5)\n",
    "ejercicio12 = (sp.Rational(2, 3)*x**4 - sp.Rational(1, 5)*y**5)**2 * (sp.Rational(2, 3)*x**4 + sp.Rational(1, 5)*y**5)**2\n",
    "ejercicio13 = ((2*x - y)*(2*x + y)*(4*x**4 + y**2))**2\n",
    "ejercicio14 = (m**2 - m - 1)*(m**2 + m + 1)\n",
    "ejercicio15 = (x - y)*(x**2 + y**2)*(x + y)\n",
    "\n",
    "ejercicio18 = (x + 1)*(x - 3)*(x - 1) * (x + 3)\n",
    "ejercicio19 = (m**4 + 5)*(m - 2)*(m**2 + 4)*(m + 2)\n",
    "ejercicio20 = ((n + 2)*(n - 2)*(n**2 + 4))**3\n",
    "\n",
    "ejercicios = [\n",
    "    (\"Ejercicio 1\", ejercicio1),\n",
    "    (\"Ejercicio 2\", ejercicio2),\n",
    "    (\"Ejercicio 3\", ejercicio3),\n",
    "    (\"Ejercicio 4\", ejercicio4),\n",
    "    (\"Ejercicio 5\", ejercicio5),\n",
    "    (\"Ejercicio 10\", ejercicio10),\n",
    "    (\"Ejercicio 11\", ejercicio11),\n",
    "    (\"Ejercicio 12\", ejercicio12),\n",
    "    (\"Ejercicio 13\", ejercicio13),\n",
    "    (\"Ejercicio 14\", ejercicio14),\n",
    "    (\"Ejercicio 15\", ejercicio15),\n",
    "    (\"Ejercicio 18\", ejercicio18),\n",
    "    (\"Ejercicio 19\", ejercicio19),\n",
    "    (\"Ejercicio 20\", ejercicio20),\n",
    "]\n",
    "\n",
    "for ejercicio in ejercicios:\n",
    "    print(ejercicio[0])\n",
    "    display(ejercicio[1].expand())"
   ]
  }
 ],
 "metadata": {
  "kernelspec": {
   "display_name": "Python 3",
   "language": "python",
   "name": "python3"
  },
  "language_info": {
   "codemirror_mode": {
    "name": "ipython",
    "version": 3
   },
   "file_extension": ".py",
   "mimetype": "text/x-python",
   "name": "python",
   "nbconvert_exporter": "python",
   "pygments_lexer": "ipython3",
   "version": "3.10.12"
  }
 },
 "nbformat": 4,
 "nbformat_minor": 2
}
