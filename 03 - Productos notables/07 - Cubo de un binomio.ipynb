{
 "cells": [
  {
   "cell_type": "markdown",
   "metadata": {},
   "source": [
    "# Cubo de un binomio\n",
    "\n",
    "Es de la forma $(a + b)^{3}$, su desarrollo es un polinomio de cuatro términos al que se llama cubo perfecto y su desarrollo es el cubo del primer término, más el triple producto del cuadrado del primero por el segundo, más el triple producto del primero por el cuadrado del segundo, más el cubo del segundo.\n",
    "\n",
    "$$(a + b)^{3} = a^{3} + 3a^{2}b + 3 ab^{2} + b^{3}$$\n",
    "\n",
    "*Demostración*:\n",
    "\n",
    "La expresión $(a + b)^{3}$ es equivalente al producto $(a + b)^{2}(a + b)$, entonces:\n",
    "\n",
    "$$\n",
    "(a + b)^{3} = (a + b)^{2}(a + b) = (a^{2} + 2ab + b^{2})(a + b) \\\\\n",
    "= a^{3} + a^{2}b + 2a^{2}b + 2ab^{2} + ab^{2} + b^{3} \\\\\n",
    "= a^{3} + 3a^{2}b + 3ab^{2} + b^{3}\n",
    "$$\n",
    "\n",
    "##### Ejemplos:\n",
    "\n",
    "1. Desarrolla $(m + 5)^{3}$\n",
    "\n",
    "**Solución**:\n",
    "\n",
    "Se obtiene cada uno de los términos que conforman al cubo perfecto:\n",
    "\n",
    "- El cubo del primer término: $(m)^{3} = m^{3}$\n",
    "- El triple del cuadrado del primero por el segundo: $3(m)^{2}(5) = 15m^{2}$\n",
    "- El triple del primero por el cuadrado del segundo: $3(m)(5)^{2} = 3(m)(25) = 75m$\n",
    "- El cubo del segundo: $(5)^{3} = 125$\n",
    "\n",
    "Estos resultados se suman y se obtiene:\n",
    "\n",
    "$$(m + 5)^{3} = m^{3} + 15m^{2} + 75m + 125$$\n",
    "\n",
    "3. Desarrolla $(-2m - 3n)^{3}$\n",
    "\n",
    "**Solución**:\n",
    "\n",
    "El binomio se representa como: $(-2m - 3n)^{3} = [(-2m) + (-3n)]^{3}$, se aplica la regla general:\n",
    "\n",
    "$$\n",
    "(-2m - 3n)^{3} = (-2m)^{3} + 3(-2m)^{2} (-3n) + 3(-2m)(-3n)^{2} + (-3n)^{3} \\\\\n",
    "= (-8m^{3}) + 3(4m^{4})(-3n) + 3(-2m)(9n^{2}) + (-27n^{3}) \\\\\n",
    "= -8m^{3} - 36m^{2}n - 54mn^{2} - 27n^{3}\n",
    "$$\n",
    "\n",
    "El desarrollo del cubo de la diferencia de dos cantidades se obtiene con la fórmula:\n",
    "\n",
    "$$(a - b)^{3} = a^{3} - 3a^{2}b + 3ab^{2} - b^{3}$$\n",
    "\n",
    "Al utilizar la fórmula los términos se sustituyen con signo positivo.\n",
    "\n",
    "4. ¿Cuál es el resultado de $(3x^{4} - 2y^{3})^{3}$?\n",
    "\n",
    "**Solución**:\n",
    "\n",
    "Se aplica la fórmula y se determina que:\n",
    "\n",
    "$$\n",
    "(3x^{4} - 2y^{3})^{3} = (3x^{4})^{3} - 3(3x^{4})^{2} (2y^{3}) + 3(3x^{4}) (2y^{3})^{2} - (2y^{3})^{3} \\\\\n",
    "= 27x^{12} - 3(9x^{8})(2y^{3}) + 3(3x^{4})(4y^{6}) - 8y^{9} \\\\\n",
    "= 27x^{12} - 54x^{8}y^{3} + 36x^{4}y^{6} - 8y^{9}\n",
    "$$"
   ]
  },
  {
   "cell_type": "markdown",
   "metadata": {},
   "source": [
    "##### Ejercicio 37:\n",
    "\n",
    "1. $(x - 1)^{3}$\n",
    "2. $(m + 6)^{3}$\n",
    "3. $(x - 2)^{3}$\n",
    "4. $(a + 10)^{3}$\n",
    "\n",
    "___\n",
    "\n",
    "10. $(3a - 4)^{3}$\n",
    "11. $(2x + 3)^{3}$\n",
    "12. $(1 - 4m)^{3}$\n",
    "13. $(3x - 4y)^{3}$\n",
    "14. $(5m^{2} + 2n^{5})^{3}$\n",
    "15. $(3x^{3}y - 2z^{4})^{3}$\n",
    "\n",
    "___\n",
    "\n",
    "22. $\\left(\\frac{1}{2} a - \\frac{3}{4} b\\right)^{3}$\n",
    "23. $\\left(\\frac{1}{3} x^{4} + y \\right)^{3}$\n",
    "24. $(2x^{2a - 3} - 3y^{4a + 1})^{3}$"
   ]
  },
  {
   "cell_type": "code",
   "execution_count": 9,
   "metadata": {},
   "outputs": [
    {
     "name": "stdout",
     "output_type": "stream",
     "text": [
      "Ejercicio 1\n"
     ]
    },
    {
     "data": {
      "text/latex": [
       "$\\displaystyle x^{3} - 3 x^{2} + 3 x - 1$"
      ],
      "text/plain": [
       "x**3 - 3*x**2 + 3*x - 1"
      ]
     },
     "metadata": {},
     "output_type": "display_data"
    },
    {
     "name": "stdout",
     "output_type": "stream",
     "text": [
      "Ejercicio 2\n"
     ]
    },
    {
     "data": {
      "text/latex": [
       "$\\displaystyle m^{3} + 18 m^{2} + 108 m + 216$"
      ],
      "text/plain": [
       "m**3 + 18*m**2 + 108*m + 216"
      ]
     },
     "metadata": {},
     "output_type": "display_data"
    },
    {
     "name": "stdout",
     "output_type": "stream",
     "text": [
      "Ejercicio 3\n"
     ]
    },
    {
     "data": {
      "text/latex": [
       "$\\displaystyle x^{3} - 6 x^{2} + 12 x - 8$"
      ],
      "text/plain": [
       "x**3 - 6*x**2 + 12*x - 8"
      ]
     },
     "metadata": {},
     "output_type": "display_data"
    },
    {
     "name": "stdout",
     "output_type": "stream",
     "text": [
      "Ejercicio 4\n"
     ]
    },
    {
     "data": {
      "text/latex": [
       "$\\displaystyle a^{3} + 30 a^{2} + 300 a + 1000$"
      ],
      "text/plain": [
       "a**3 + 30*a**2 + 300*a + 1000"
      ]
     },
     "metadata": {},
     "output_type": "display_data"
    },
    {
     "name": "stdout",
     "output_type": "stream",
     "text": [
      "Ejercicio 10\n"
     ]
    },
    {
     "data": {
      "text/latex": [
       "$\\displaystyle 27 a^{3} - 108 a^{2} + 144 a - 64$"
      ],
      "text/plain": [
       "27*a**3 - 108*a**2 + 144*a - 64"
      ]
     },
     "metadata": {},
     "output_type": "display_data"
    },
    {
     "name": "stdout",
     "output_type": "stream",
     "text": [
      "Ejercicio 11\n"
     ]
    },
    {
     "data": {
      "text/latex": [
       "$\\displaystyle 8 x^{3} + 36 x^{2} + 54 x + 27$"
      ],
      "text/plain": [
       "8*x**3 + 36*x**2 + 54*x + 27"
      ]
     },
     "metadata": {},
     "output_type": "display_data"
    },
    {
     "name": "stdout",
     "output_type": "stream",
     "text": [
      "Ejercicio 12\n"
     ]
    },
    {
     "data": {
      "text/latex": [
       "$\\displaystyle - 64 m^{3} + 48 m^{2} - 12 m + 1$"
      ],
      "text/plain": [
       "-64*m**3 + 48*m**2 - 12*m + 1"
      ]
     },
     "metadata": {},
     "output_type": "display_data"
    },
    {
     "name": "stdout",
     "output_type": "stream",
     "text": [
      "Ejercicio 13\n"
     ]
    },
    {
     "data": {
      "text/latex": [
       "$\\displaystyle 27 x^{3} - 108 x^{2} y + 144 x y^{2} - 64 y^{3}$"
      ],
      "text/plain": [
       "27*x**3 - 108*x**2*y + 144*x*y**2 - 64*y**3"
      ]
     },
     "metadata": {},
     "output_type": "display_data"
    },
    {
     "name": "stdout",
     "output_type": "stream",
     "text": [
      "Ejercicio 14\n"
     ]
    },
    {
     "data": {
      "text/latex": [
       "$\\displaystyle 15 m^{2} + 6 n^{5}$"
      ],
      "text/plain": [
       "15*m**2 + 6*n**5"
      ]
     },
     "metadata": {},
     "output_type": "display_data"
    },
    {
     "name": "stdout",
     "output_type": "stream",
     "text": [
      "Ejercicio 15\n"
     ]
    },
    {
     "data": {
      "text/latex": [
       "$\\displaystyle 27 x^{9} y^{3} - 54 x^{6} y^{2} z^{4} + 36 x^{3} y z^{8} - 8 z^{12}$"
      ],
      "text/plain": [
       "27*x**9*y**3 - 54*x**6*y**2*z**4 + 36*x**3*y*z**8 - 8*z**12"
      ]
     },
     "metadata": {},
     "output_type": "display_data"
    },
    {
     "name": "stdout",
     "output_type": "stream",
     "text": [
      "Ejercicio 22\n"
     ]
    },
    {
     "data": {
      "text/latex": [
       "$\\displaystyle \\frac{a^{3}}{8} - \\frac{9 a^{2} b}{16} + \\frac{27 a b^{2}}{32} - \\frac{27 b^{3}}{64}$"
      ],
      "text/plain": [
       "a**3/8 - 9*a**2*b/16 + 27*a*b**2/32 - 27*b**3/64"
      ]
     },
     "metadata": {},
     "output_type": "display_data"
    },
    {
     "name": "stdout",
     "output_type": "stream",
     "text": [
      "Ejercicio 23\n"
     ]
    },
    {
     "data": {
      "text/latex": [
       "$\\displaystyle \\frac{x^{12}}{27} + \\frac{x^{8} y}{3} + x^{4} y^{2} + y^{3}$"
      ],
      "text/plain": [
       "x**12/27 + x**8*y/3 + x**4*y**2 + y**3"
      ]
     },
     "metadata": {},
     "output_type": "display_data"
    },
    {
     "name": "stdout",
     "output_type": "stream",
     "text": [
      "Ejercicio 24\n"
     ]
    },
    {
     "data": {
      "text/latex": [
       "$\\displaystyle 54 x^{2 a - 3} y^{8 a + 2} - 36 x^{4 a - 6} y^{4 a + 1} + 8 x^{6 a - 9} - 27 y^{12 a + 3}$"
      ],
      "text/plain": [
       "54*x**(2*a - 3)*y**(8*a + 2) - 36*x**(4*a - 6)*y**(4*a + 1) + 8*x**(6*a - 9) - 27*y**(12*a + 3)"
      ]
     },
     "metadata": {},
     "output_type": "display_data"
    }
   ],
   "source": [
    "import sympy as sp\n",
    "\n",
    "a, b, m, n, x, y, z = sp.symbols(\"a b m n x y z\")\n",
    "\n",
    "ejercicios = []\n",
    "\n",
    "ejercicio1 = (x - 1)**3\n",
    "ejercicio2 = (m + 6)**3\n",
    "ejercicio3 = (x - 2)**3\n",
    "ejercicio4 = (a + 10)**3\n",
    "\n",
    "ejercicio10 = (3*a - 4)**3\n",
    "ejercicio11 = (2*x + 3)**3\n",
    "ejercicio12 = (1 - 4*m)**3\n",
    "ejercicio13 = (3*x - 4*y)**3\n",
    "ejercicio14 = (5*m**2 + 2*n**5)*3\n",
    "ejercicio15 = (3*x**3 * y - 2*z**4)**3\n",
    "\n",
    "ejercicio22 = (sp.Rational(1, 2)*a - sp.Rational(3, 4)*b)**3\n",
    "ejercicio23 = (sp.Rational(1, 3)*x**4 + y)**3\n",
    "ejercicio24 = (2*x**(2*a - 3) - 3*y**(4*a + 1))**3\n",
    "\n",
    "ejercicios = [\n",
    "    (\"Ejercicio 1\", ejercicio1),\n",
    "    (\"Ejercicio 2\", ejercicio2),\n",
    "    (\"Ejercicio 3\", ejercicio3),\n",
    "    (\"Ejercicio 4\", ejercicio4),\n",
    "    \n",
    "    (\"Ejercicio 10\", ejercicio10),\n",
    "    (\"Ejercicio 11\", ejercicio11),\n",
    "    (\"Ejercicio 12\", ejercicio12),\n",
    "    (\"Ejercicio 13\", ejercicio13),\n",
    "    (\"Ejercicio 14\", ejercicio14),\n",
    "    (\"Ejercicio 15\", ejercicio15),\n",
    "    \n",
    "    (\"Ejercicio 22\", ejercicio22),\n",
    "    (\"Ejercicio 23\", ejercicio23),\n",
    "    (\"Ejercicio 24\", ejercicio24),\n",
    "]\n",
    "\n",
    "for ejercicio in ejercicios:\n",
    "    print(ejercicio[0])\n",
    "    display(ejercicio[1].expand())"
   ]
  }
 ],
 "metadata": {
  "kernelspec": {
   "display_name": "Python 3",
   "language": "python",
   "name": "python3"
  },
  "language_info": {
   "codemirror_mode": {
    "name": "ipython",
    "version": 3
   },
   "file_extension": ".py",
   "mimetype": "text/x-python",
   "name": "python",
   "nbconvert_exporter": "python",
   "pygments_lexer": "ipython3",
   "version": "3.10.12"
  }
 },
 "nbformat": 4,
 "nbformat_minor": 2
}
