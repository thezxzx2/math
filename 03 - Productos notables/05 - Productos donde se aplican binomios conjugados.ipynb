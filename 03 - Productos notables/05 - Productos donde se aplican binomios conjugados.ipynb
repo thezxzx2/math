{
 "cells": [
  {
   "cell_type": "markdown",
   "metadata": {},
   "source": [
    "# Productos donde se aplican binomios conjugados\n",
    "\n",
    "##### Ejemplos:\n",
    "\n",
    "1. El resultado de $(m + n - p)(m + n + p)$ es:\n",
    "\n",
    "**Solución**:\n",
    "\n",
    "Los elementos de ambos factores se agrupan de la siguiente manera:\n",
    "\n",
    "$$\n",
    "(m + n - p)(m + n + p) = [(m + n) - p][(m + n) + p]\n",
    "$$\n",
    "\n",
    "Se aplica la fórmula para los binomios conjugados:\n",
    "\n",
    "$$\n",
    "= (m + n)^{2} - p^{2}\n",
    "$$\n",
    "\n",
    "Se desarrolla el binomio y, finalmente, el resultado es:\n",
    "\n",
    "$$\n",
    "= m^{2} + 2mn + n^{2} - p^{2}\n",
    "$$\n",
    "\n",
    "2. Desarrolla $(x + y - 3)(x - y + 3)$\n",
    "\n",
    "**Solución**:\n",
    "\n",
    "El producto se expresa de la siguiente manera y se procede a aplicar el producto de binomios conjugados:\n",
    "\n",
    "$$\n",
    "(x + y - 3)(x - y + 3) = [x + (y - 3)][x - (y - 3)] \\\\\n",
    "= (x)^{2} - (y - 3)^{2} \\\\\n",
    "= x^{2} - y^{2} + 6y - 9\n",
    "$$\n",
    "\n",
    "Por tanto, el resultado es: $x^{2} - y^{2} + 6y - 9$\n",
    "\n",
    "3. ¿Cuál es el resultado de $(2x - 3y - z + 5)(2x - 3y + z - 5)$?\n",
    "\n",
    "**Solución**:\n",
    "\n",
    "Se agrupan los términos y se aplica la fórmula para binomios conjugados:\n",
    "\n",
    "$$\n",
    "(2x - 3y - z + 5)(2x - 3y + z - 5) = [(2x - 3y) - (z - 5)][(2x - 3y) + (z - 5)] \\\\\n",
    "= (2x - 3y)^{2} - (z - 5)^{2}\n",
    "$$\n",
    "\n",
    "Se desarrollan los binomios, se eliminan los paréntesis y se ordenan los términos:\n",
    "\n",
    "$$\n",
    "= (4x^{2} - 12xy + 9y{2}) - (z^{2} - 10z + 25) \\\\\n",
    "= 4x^{2} - 12xy + 9y{2} - z{2} + 10z - 25 \\\\\n",
    "= 4x^{2} + 9y^{2} - z^{2} - 12xy + 10z - 25\n",
    "$$\n",
    "\n",
    "Finalmente, el resultado es: $4x^{2} + 9y^{2} - z^{2} - 12xy + 10z - 25$"
   ]
  },
  {
   "cell_type": "markdown",
   "metadata": {},
   "source": [
    "##### Ejercicio 35:\n",
    "\n",
    "1. $(x + 3)(x - 3)$\n",
    "2. $(a - 1)(a + 1)$\n",
    "3. $(b + 2)(b - 2)$\n",
    "4. $(k - 8)(k + 8)$\n",
    "\n",
    "___\n",
    "\n",
    "10. $(4m - 9n)(4m + 9n)$\n",
    "11. $(2b - 3c)(3c + 2b)$\n",
    "12. $(6x^{5} + 1)(6x^{5} - 1)$\n",
    "\n",
    "___\n",
    "\n",
    "23. $(a + b - c)(a + b + c)$\n",
    "24. $(a - b + c)(a + b - c)$\n",
    "25. $(m + n + p)(m - n - p)$\n",
    "26. $(x + y - 3)(x + y + 3)$\n",
    "\n",
    "___\n",
    "\n",
    "32. $\\left(\\frac{1}{2} m - \\frac{2}{3} n - \\frac{1}{4}\\right) \\left(\\frac{1}{2} m + \\frac{2}{3} n - \\frac{1}{4}\\right)$\n",
    "33. $\\left(\\frac{2}{5} x^{2} + \\frac{1}{3} xy + \\frac{2}{7} y^{2}\\right) \\left(\\frac{2}{5} x^{2} - \\frac{1}{3} xy + \\frac{2}{7} y^{2}\\right)$\n",
    "34. $\\left(\\frac{1}{3} x^{m + 1} - \\frac{1}{6} x^{m} + \\frac{1}{2} x^{m - 1}\\right) \\left(\\frac{1}{3} x^{m + 1} + \\frac{1}{6} x^{m} - \\frac{1}{2} x^{m - 1}\\right)$\n",
    "35. $(a + b + c + d)(a + b - c - d)$\n",
    "36. $(x + y + z - 1)(x - y + z + 1)$\n",
    "37. $(x - 2n + 3p - 5)(m + 2n - 3p - 5)$\n",
    "38. $(x - y + z - 4)(x - y - z + 4)$\n",
    "39. $(2x + 3y + 4z - 7)(2x + 3y - 4z + 7)$\n",
    "40. $(x - y - 3z - 5)(x - y + 3z + 5)$"
   ]
  },
  {
   "cell_type": "code",
   "execution_count": 10,
   "metadata": {},
   "outputs": [
    {
     "name": "stdout",
     "output_type": "stream",
     "text": [
      "Ejercicio 1\n"
     ]
    },
    {
     "data": {
      "text/latex": [
       "$\\displaystyle x^{2} - 9$"
      ],
      "text/plain": [
       "x**2 - 9"
      ]
     },
     "metadata": {},
     "output_type": "display_data"
    },
    {
     "name": "stdout",
     "output_type": "stream",
     "text": [
      "Ejercicio 2\n"
     ]
    },
    {
     "data": {
      "text/latex": [
       "$\\displaystyle a^{2} - 1$"
      ],
      "text/plain": [
       "a**2 - 1"
      ]
     },
     "metadata": {},
     "output_type": "display_data"
    },
    {
     "name": "stdout",
     "output_type": "stream",
     "text": [
      "Ejercicio 3\n"
     ]
    },
    {
     "data": {
      "text/latex": [
       "$\\displaystyle b^{2} - 4$"
      ],
      "text/plain": [
       "b**2 - 4"
      ]
     },
     "metadata": {},
     "output_type": "display_data"
    },
    {
     "name": "stdout",
     "output_type": "stream",
     "text": [
      "Ejercicio 4\n"
     ]
    },
    {
     "data": {
      "text/latex": [
       "$\\displaystyle k^{2} - 64$"
      ],
      "text/plain": [
       "k**2 - 64"
      ]
     },
     "metadata": {},
     "output_type": "display_data"
    },
    {
     "name": "stdout",
     "output_type": "stream",
     "text": [
      "Ejercicio 10\n"
     ]
    },
    {
     "data": {
      "text/latex": [
       "$\\displaystyle 16 m^{2} - 81 n^{2}$"
      ],
      "text/plain": [
       "16*m**2 - 81*n**2"
      ]
     },
     "metadata": {},
     "output_type": "display_data"
    },
    {
     "name": "stdout",
     "output_type": "stream",
     "text": [
      "Ejercicio 11\n"
     ]
    },
    {
     "data": {
      "text/latex": [
       "$\\displaystyle 4 b^{2} - 9 c^{2}$"
      ],
      "text/plain": [
       "4*b**2 - 9*c**2"
      ]
     },
     "metadata": {},
     "output_type": "display_data"
    },
    {
     "name": "stdout",
     "output_type": "stream",
     "text": [
      "Ejercicio 12\n"
     ]
    },
    {
     "data": {
      "text/latex": [
       "$\\displaystyle 36 x^{10} - 1$"
      ],
      "text/plain": [
       "36*x**10 - 1"
      ]
     },
     "metadata": {},
     "output_type": "display_data"
    },
    {
     "name": "stdout",
     "output_type": "stream",
     "text": [
      "Ejercicio 23\n"
     ]
    },
    {
     "data": {
      "text/latex": [
       "$\\displaystyle a^{2} + 2 a b + b^{2} - c^{2}$"
      ],
      "text/plain": [
       "a**2 + 2*a*b + b**2 - c**2"
      ]
     },
     "metadata": {},
     "output_type": "display_data"
    },
    {
     "name": "stdout",
     "output_type": "stream",
     "text": [
      "Ejercicio 24\n"
     ]
    },
    {
     "data": {
      "text/latex": [
       "$\\displaystyle a^{2} - b^{2} + 2 b c - c^{2}$"
      ],
      "text/plain": [
       "a**2 - b**2 + 2*b*c - c**2"
      ]
     },
     "metadata": {},
     "output_type": "display_data"
    },
    {
     "name": "stdout",
     "output_type": "stream",
     "text": [
      "Ejercicio 25\n"
     ]
    },
    {
     "data": {
      "text/latex": [
       "$\\displaystyle m^{2} - n^{2} - 2 n p - p^{2}$"
      ],
      "text/plain": [
       "m**2 - n**2 - 2*n*p - p**2"
      ]
     },
     "metadata": {},
     "output_type": "display_data"
    },
    {
     "name": "stdout",
     "output_type": "stream",
     "text": [
      "Ejercicio 26\n"
     ]
    },
    {
     "data": {
      "text/latex": [
       "$\\displaystyle x^{2} + 2 x y + y^{2} - 9$"
      ],
      "text/plain": [
       "x**2 + 2*x*y + y**2 - 9"
      ]
     },
     "metadata": {},
     "output_type": "display_data"
    },
    {
     "name": "stdout",
     "output_type": "stream",
     "text": [
      "Ejercicio 32\n"
     ]
    },
    {
     "data": {
      "text/latex": [
       "$\\displaystyle \\frac{m^{2}}{4} - \\frac{m}{4} - \\frac{4 n^{2}}{9} + \\frac{1}{16}$"
      ],
      "text/plain": [
       "m**2/4 - m/4 - 4*n**2/9 + 1/16"
      ]
     },
     "metadata": {},
     "output_type": "display_data"
    },
    {
     "name": "stdout",
     "output_type": "stream",
     "text": [
      "Ejercicio 33\n"
     ]
    },
    {
     "data": {
      "text/latex": [
       "$\\displaystyle \\frac{4 x^{4}}{25} + \\frac{37 x^{2} y^{2}}{315} + \\frac{4 y^{4}}{49}$"
      ],
      "text/plain": [
       "4*x**4/25 + 37*x**2*y**2/315 + 4*y**4/49"
      ]
     },
     "metadata": {},
     "output_type": "display_data"
    },
    {
     "name": "stdout",
     "output_type": "stream",
     "text": [
      "Ejercicio 34\n"
     ]
    },
    {
     "data": {
      "text/latex": [
       "$\\displaystyle - \\frac{x^{2 m}}{36} + \\frac{x^{m} x^{m - 1}}{6} - \\frac{x^{2 m - 2}}{4} + \\frac{x^{2 m + 2}}{9}$"
      ],
      "text/plain": [
       "-x**(2*m)/36 + x**m*x**(m - 1)/6 - x**(2*m - 2)/4 + x**(2*m + 2)/9"
      ]
     },
     "metadata": {},
     "output_type": "display_data"
    },
    {
     "name": "stdout",
     "output_type": "stream",
     "text": [
      "Ejercicio 35\n"
     ]
    },
    {
     "data": {
      "text/latex": [
       "$\\displaystyle a^{2} + 2 a b + b^{2} - c^{2} - 2 c d - d^{2}$"
      ],
      "text/plain": [
       "a**2 + 2*a*b + b**2 - c**2 - 2*c*d - d**2"
      ]
     },
     "metadata": {},
     "output_type": "display_data"
    },
    {
     "name": "stdout",
     "output_type": "stream",
     "text": [
      "Ejercicio 36\n"
     ]
    },
    {
     "data": {
      "text/latex": [
       "$\\displaystyle x^{2} + 2 x z - y^{2} + 2 y + z^{2} - 1$"
      ],
      "text/plain": [
       "x**2 + 2*x*z - y**2 + 2*y + z**2 - 1"
      ]
     },
     "metadata": {},
     "output_type": "display_data"
    },
    {
     "name": "stdout",
     "output_type": "stream",
     "text": [
      "Ejercicio 37\n"
     ]
    },
    {
     "data": {
      "text/latex": [
       "$\\displaystyle m^{2} - 10 m - 4 n^{2} + 12 n p - 9 p^{2} + 25$"
      ],
      "text/plain": [
       "m**2 - 10*m - 4*n**2 + 12*n*p - 9*p**2 + 25"
      ]
     },
     "metadata": {},
     "output_type": "display_data"
    },
    {
     "name": "stdout",
     "output_type": "stream",
     "text": [
      "Ejercicio 38\n"
     ]
    },
    {
     "data": {
      "text/latex": [
       "$\\displaystyle x^{2} - 2 x y + y^{2} - z^{2} + 8 z - 16$"
      ],
      "text/plain": [
       "x**2 - 2*x*y + y**2 - z**2 + 8*z - 16"
      ]
     },
     "metadata": {},
     "output_type": "display_data"
    },
    {
     "name": "stdout",
     "output_type": "stream",
     "text": [
      "Ejercicio 39\n"
     ]
    },
    {
     "data": {
      "text/latex": [
       "$\\displaystyle 4 x^{2} + 12 x y + 9 y^{2} - 16 z^{2} + 56 z - 49$"
      ],
      "text/plain": [
       "4*x**2 + 12*x*y + 9*y**2 - 16*z**2 + 56*z - 49"
      ]
     },
     "metadata": {},
     "output_type": "display_data"
    },
    {
     "name": "stdout",
     "output_type": "stream",
     "text": [
      "Ejercicio 40\n"
     ]
    },
    {
     "data": {
      "text/latex": [
       "$\\displaystyle x^{2} - 2 x y + y^{2} - 9 z^{2} - 30 z - 25$"
      ],
      "text/plain": [
       "x**2 - 2*x*y + y**2 - 9*z**2 - 30*z - 25"
      ]
     },
     "metadata": {},
     "output_type": "display_data"
    }
   ],
   "source": [
    "import sympy as sp\n",
    "\n",
    "a, b, c, d, k, m, n, p, x, y, z = sp.symbols(\"a b c d k m n p x y z\")\n",
    "\n",
    "ejercicios = []\n",
    "\n",
    "ejercicio1 = (x + 3) * (x - 3)\n",
    "ejercicio2 = (a - 1) * (a + 1)\n",
    "ejercicio3 = (b + 2) * (b - 2)\n",
    "ejercicio4 = (k - 8) * (k + 8)\n",
    "\n",
    "ejercicio10 = (4*m - 9*n) * (4*m + 9*n)\n",
    "ejercicio11 = (2*b - 3*c) * (3*c + 2*b)\n",
    "ejercicio12 = (6*x**5 + 1) * (6*x**5 - 1)\n",
    "\n",
    "ejercicio23 = (a + b - c) * (a + b + c)\n",
    "ejercicio24 = (a - b + c) * (a + b - c)\n",
    "ejercicio25 = (m + n + p) * (m - n - p)\n",
    "ejercicio26 = (x + y - 3) * (x + y + 3)\n",
    "\n",
    "ejercicio32 = ((sp.Rational(1, 2) * m) - (sp.Rational(2, 3) * n) - (sp.Rational(1, 4))) * ((sp.Rational(1, 2) * m) + (sp.Rational(2, 3) * n) - (sp.Rational(1, 4)))\n",
    "ejercicio33 = (sp.Rational(2, 5) * x**2 + sp.Rational(1, 3) * x*y + sp.Rational(2, 7) *y**2) * (sp.Rational(2, 5) *x**2 - sp.Rational(1, 3) *x*y + sp.Rational(2, 7) * y**2)\n",
    "ejercicio34 = (sp.Rational(1, 3) *x**(m + 1) - sp.Rational(1, 6) *x**m + sp.Rational(1, 2) *x**(m - 1)) * (sp.Rational(1, 3) *x**(m + 1) + sp.Rational(1, 6) *x**m - sp.Rational(1, 2) * x**(m - 1))\n",
    "ejercicio35 = (a + b + c + d) * (a + b - c - d)\n",
    "ejercicio36 = (x + y + z - 1) * (x - y + z + 1)\n",
    "ejercicio37 = (m - 2*n + 3*p - 5) * (m + 2*n - 3*p - 5)\n",
    "ejercicio38 = (x - y + z - 4) * (x - y - z + 4)\n",
    "ejercicio39 = (2*x + 3*y + 4*z - 7) * (2*x + 3*y - 4*z + 7)\n",
    "ejercicio40 = (x - y - 3*z - 5) * (x - y + 3*z + 5)\n",
    "\n",
    "ejercicios = [\n",
    "    (\"Ejercicio 1\", ejercicio1),\n",
    "    (\"Ejercicio 2\", ejercicio2),\n",
    "    (\"Ejercicio 3\", ejercicio3),\n",
    "    (\"Ejercicio 4\", ejercicio4),\n",
    "    (\"Ejercicio 10\", ejercicio10),\n",
    "    (\"Ejercicio 11\", ejercicio11),\n",
    "    (\"Ejercicio 12\", ejercicio12),\n",
    "    (\"Ejercicio 23\", ejercicio23),\n",
    "    (\"Ejercicio 24\", ejercicio24),\n",
    "    (\"Ejercicio 25\", ejercicio25),\n",
    "    (\"Ejercicio 26\", ejercicio26),\n",
    "    (\"Ejercicio 32\", ejercicio32),\n",
    "    (\"Ejercicio 33\", ejercicio33),\n",
    "    (\"Ejercicio 34\", ejercicio34),\n",
    "    (\"Ejercicio 35\", ejercicio35),\n",
    "    (\"Ejercicio 36\", ejercicio36),\n",
    "    (\"Ejercicio 37\", ejercicio37),\n",
    "    (\"Ejercicio 38\", ejercicio38),\n",
    "    (\"Ejercicio 39\", ejercicio39),\n",
    "    (\"Ejercicio 40\", ejercicio40),\n",
    "]\n",
    "\n",
    "for ejercicio in ejercicios:\n",
    "    print(ejercicio[0])\n",
    "    display(ejercicio[1].expand())"
   ]
  },
  {
   "cell_type": "code",
   "execution_count": 9,
   "metadata": {},
   "outputs": [
    {
     "data": {
      "text/latex": [
       "$\\displaystyle \\left(\\frac{m}{2} - \\frac{2 n}{3} - \\frac{1}{4}\\right) \\left(\\frac{m}{2} + \\frac{2 n}{3} - \\frac{1}{4}\\right)$"
      ],
      "text/plain": [
       "(m/2 - 2*n/3 - 1/4)*(m/2 + 2*n/3 - 1/4)"
      ]
     },
     "execution_count": 9,
     "metadata": {},
     "output_type": "execute_result"
    }
   ],
   "source": []
  },
  {
   "cell_type": "code",
   "execution_count": null,
   "metadata": {},
   "outputs": [],
   "source": []
  }
 ],
 "metadata": {
  "kernelspec": {
   "display_name": "Python 3",
   "language": "python",
   "name": "python3"
  },
  "language_info": {
   "codemirror_mode": {
    "name": "ipython",
    "version": 3
   },
   "file_extension": ".py",
   "mimetype": "text/x-python",
   "name": "python",
   "nbconvert_exporter": "python",
   "pygments_lexer": "ipython3",
   "version": "3.10.12"
  }
 },
 "nbformat": 4,
 "nbformat_minor": 2
}
