{
 "cells": [
  {
   "cell_type": "markdown",
   "metadata": {},
   "source": [
    "# Binomios con término común\n",
    "\n",
    "Son de la forma $(x + a)(x + b)$, su resultado es un trinomio cuyo desarrollo es el cuadrado del término común, más la suma de los términos no comunes por el término común, más el producto de los no comunes.\n",
    "\n",
    "$$(x + a)(x + b) = x^{2} + (a + b) x + ab$$\n",
    "\n",
    "*Demostración*:\n",
    "\n",
    "Se realiza el producto de los binomios:\n",
    "\n",
    "$$(x + a)(x + b) = x^{2} + ax + bx + ab$$\n",
    "\n",
    "Se agrupan los términos semejantes y se obtiene la fórmula:\n",
    "\n",
    "$$(x + a)(x + b) = x^{2} + ax + bx + ab = x^{2} + (a + b)x + ab$$\n",
    "\n",
    "##### Ejemplos:\n",
    "\n",
    "1. Desarrolla $(x - 6)(x + 4)$\n",
    "\n",
    "**Solución**:\n",
    "\n",
    "Se desarrolla el procedimiento descrito:\n",
    "- El cuadrado del término común: $(x)^{2} = x^{2}$\n",
    "- La suma de los términos no comunes, multiplicada por el término común: $(-6 + 4)(x) = -2x$\n",
    "- El producto de los términos no comunes: $(-6)(4) = -24$\n",
    "\n",
    "Se suman los términos anteriores y se obtiene como resultado:\n",
    "\n",
    "$$(x - 6)(x + 4) = x^{2} - 2x - 24$$\n",
    "\n",
    "2. Efectúa $(m - 3)(m - 5)$\n",
    "\n",
    "**Solución**:\n",
    "\n",
    "Al aplicar la fórmula, se obtiene:\n",
    "\n",
    "$$(m - 3)(m - 5) = m^{2} + (-3 -5)m + (-3)(-5) = m^{2} - 8m + 15$$"
   ]
  },
  {
   "cell_type": "markdown",
   "metadata": {},
   "source": [
    "##### Ejercicio 36:\n",
    "\n",
    "1. $(x - 8)(x + 5)$\n",
    "2. $(m + 7)(m - 4)$\n",
    "3. $(x - 10)(x - 2)$\n",
    "4. $(x - 6)(x - 2)$\n",
    "\n",
    "___\n",
    "\n",
    "10. $(m - 3)(m + 8)$\n",
    "11. $(2x - 6)(2x + 4)$\n",
    "12. $(3m + 6)(3m - 4)$\n",
    "\n",
    "___\n",
    "\n",
    "25. $(a^{2}x^{3} + b^{4})(a^{2}x^{3} + 2b^{4})$\n",
    "26. $(3x^{m} + 4y^{n})(3x^{m} - 7y^{n})$\n",
    "27. $\\left(x - \\frac{2}{3}\\right) \\left(x + \\frac{1}{6}\\right)$\n",
    "28. $\\left(\\frac{1}{3} m + \\frac{2}{5}\\right) \\left(\\frac{1}{3} m - \\frac{1}{2}\\right)$"
   ]
  },
  {
   "cell_type": "markdown",
   "metadata": {},
   "source": [
    "##### Ejercicio 36 (Respuestas):"
   ]
  },
  {
   "cell_type": "code",
   "execution_count": 1,
   "metadata": {},
   "outputs": [
    {
     "name": "stdout",
     "output_type": "stream",
     "text": [
      "Ejercicio 1\n"
     ]
    },
    {
     "data": {
      "text/latex": [
       "$\\displaystyle x^{2} - 3 x - 40$"
      ],
      "text/plain": [
       "x**2 - 3*x - 40"
      ]
     },
     "metadata": {},
     "output_type": "display_data"
    },
    {
     "name": "stdout",
     "output_type": "stream",
     "text": [
      "Ejercicio 2\n"
     ]
    },
    {
     "data": {
      "text/latex": [
       "$\\displaystyle m^{2} + 3 m - 28$"
      ],
      "text/plain": [
       "m**2 + 3*m - 28"
      ]
     },
     "metadata": {},
     "output_type": "display_data"
    },
    {
     "name": "stdout",
     "output_type": "stream",
     "text": [
      "Ejercicio 3\n"
     ]
    },
    {
     "data": {
      "text/latex": [
       "$\\displaystyle x^{2} - 12 x + 20$"
      ],
      "text/plain": [
       "x**2 - 12*x + 20"
      ]
     },
     "metadata": {},
     "output_type": "display_data"
    },
    {
     "name": "stdout",
     "output_type": "stream",
     "text": [
      "Ejercicio 4\n"
     ]
    },
    {
     "data": {
      "text/latex": [
       "$\\displaystyle x^{2} - 11 x + 30$"
      ],
      "text/plain": [
       "x**2 - 11*x + 30"
      ]
     },
     "metadata": {},
     "output_type": "display_data"
    },
    {
     "name": "stdout",
     "output_type": "stream",
     "text": [
      "Ejercicio 10\n"
     ]
    },
    {
     "data": {
      "text/latex": [
       "$\\displaystyle m^{2} + 5 m - 24$"
      ],
      "text/plain": [
       "m**2 + 5*m - 24"
      ]
     },
     "metadata": {},
     "output_type": "display_data"
    },
    {
     "name": "stdout",
     "output_type": "stream",
     "text": [
      "Ejercicio 11\n"
     ]
    },
    {
     "data": {
      "text/latex": [
       "$\\displaystyle 4 x^{2} - 4 x - 24$"
      ],
      "text/plain": [
       "4*x**2 - 4*x - 24"
      ]
     },
     "metadata": {},
     "output_type": "display_data"
    },
    {
     "name": "stdout",
     "output_type": "stream",
     "text": [
      "Ejercicio 12\n"
     ]
    },
    {
     "data": {
      "text/latex": [
       "$\\displaystyle 9 m^{2} + 6 m - 24$"
      ],
      "text/plain": [
       "9*m**2 + 6*m - 24"
      ]
     },
     "metadata": {},
     "output_type": "display_data"
    },
    {
     "name": "stdout",
     "output_type": "stream",
     "text": [
      "Ejercicio 25\n"
     ]
    },
    {
     "data": {
      "text/latex": [
       "$\\displaystyle a^{4} x^{6} + 3 a^{2} b^{4} x^{3} + 2 b^{8}$"
      ],
      "text/plain": [
       "a**4*x**6 + 3*a**2*b**4*x**3 + 2*b**8"
      ]
     },
     "metadata": {},
     "output_type": "display_data"
    },
    {
     "name": "stdout",
     "output_type": "stream",
     "text": [
      "Ejercicio 26\n"
     ]
    },
    {
     "data": {
      "text/latex": [
       "$\\displaystyle 9 x^{2 m} - 9 x^{m} y^{n} - 28 y^{2 n}$"
      ],
      "text/plain": [
       "9*x**(2*m) - 9*x**m*y**n - 28*y**(2*n)"
      ]
     },
     "metadata": {},
     "output_type": "display_data"
    },
    {
     "name": "stdout",
     "output_type": "stream",
     "text": [
      "Ejercicio 27\n"
     ]
    },
    {
     "data": {
      "text/latex": [
       "$\\displaystyle x^{2} - \\frac{x}{2} - \\frac{1}{9}$"
      ],
      "text/plain": [
       "x**2 - x/2 - 1/9"
      ]
     },
     "metadata": {},
     "output_type": "display_data"
    },
    {
     "name": "stdout",
     "output_type": "stream",
     "text": [
      "Ejercicio 28\n"
     ]
    },
    {
     "data": {
      "text/latex": [
       "$\\displaystyle \\frac{m^{2}}{9} - \\frac{m}{30} - \\frac{1}{5}$"
      ],
      "text/plain": [
       "m**2/9 - m/30 - 1/5"
      ]
     },
     "metadata": {},
     "output_type": "display_data"
    }
   ],
   "source": [
    "import sympy as sp\n",
    "\n",
    "a, b, m, n, x, y = sp.symbols(\"a b m n x y\")\n",
    "\n",
    "ejercicios = []\n",
    "\n",
    "ejercicio1 = (x - 8) * (x + 5)\n",
    "ejercicio2 = (m + 7) * (m - 4)\n",
    "ejercicio3 = (x - 10) * (x - 2)\n",
    "ejercicio4 = (x - 6) * (x - 5)\n",
    "\n",
    "ejercicio10 = (m - 3) * (m + 8)\n",
    "ejercicio11 = (2*x - 6) * (2*x + 4)\n",
    "ejercicio12 = (3*m + 6) * (3*m - 4)\n",
    "\n",
    "ejercicio25 = (a**2 * x**3 + b**4) * (a**2 * x**3 + 2*b**4)\n",
    "ejercicio26 = (3*x**m + 4*y**n) * (3*x**m - 7*y**n)\n",
    "ejercicio27 = (x - sp.Rational(2, 3)) * (x + sp.Rational(1, 6))\n",
    "ejercicio28 = (sp.Rational(1, 3) * m + sp.Rational(2, 5)) * (sp.Rational(1, 3) * m - sp.Rational(1, 2))\n",
    "\n",
    "ejercicios = [\n",
    "    (\"Ejercicio 1\", ejercicio1),\n",
    "    (\"Ejercicio 2\", ejercicio2),\n",
    "    (\"Ejercicio 3\", ejercicio3),\n",
    "    (\"Ejercicio 4\", ejercicio4),\n",
    "    (\"Ejercicio 10\", ejercicio10),\n",
    "    (\"Ejercicio 11\", ejercicio11),\n",
    "    (\"Ejercicio 12\", ejercicio12),\n",
    "    (\"Ejercicio 25\", ejercicio25),\n",
    "    (\"Ejercicio 26\", ejercicio26),\n",
    "    (\"Ejercicio 27\", ejercicio27),\n",
    "    (\"Ejercicio 28\", ejercicio28),\n",
    "]\n",
    "\n",
    "for ejercicio in ejercicios:\n",
    "    print(ejercicio[0])\n",
    "    display(ejercicio[1].expand())"
   ]
  }
 ],
 "metadata": {
  "kernelspec": {
   "display_name": "Python 3",
   "language": "python",
   "name": "python3"
  },
  "language_info": {
   "codemirror_mode": {
    "name": "ipython",
    "version": 3
   },
   "file_extension": ".py",
   "mimetype": "text/x-python",
   "name": "python",
   "nbconvert_exporter": "python",
   "pygments_lexer": "ipython3",
   "version": "3.10.12"
  }
 },
 "nbformat": 4,
 "nbformat_minor": 2
}
