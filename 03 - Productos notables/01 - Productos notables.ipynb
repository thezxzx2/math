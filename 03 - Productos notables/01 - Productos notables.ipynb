{
 "cells": [
  {
   "cell_type": "markdown",
   "metadata": {},
   "source": [
    "# Definición\n",
    "\n",
    "Los productos notables se obtienen con un simple desarrollo, sin necesidad de efectuar el producto."
   ]
  }
 ],
 "metadata": {
  "language_info": {
   "name": "python"
  }
 },
 "nbformat": 4,
 "nbformat_minor": 2
}
