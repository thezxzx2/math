{
 "cells": [
  {
   "cell_type": "markdown",
   "metadata": {},
   "source": [
    "# Factorización\n",
    "\n",
    "Factorizar es expresar una suma o diferencia de términos como el producto indicado de sus factores; éstos se presentan en la forma más simple."
   ]
  }
 ],
 "metadata": {
  "language_info": {
   "name": "python"
  }
 },
 "nbformat": 4,
 "nbformat_minor": 2
}
