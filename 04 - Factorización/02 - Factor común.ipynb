{
 "cells": [
  {
   "cell_type": "markdown",
   "metadata": {},
   "source": [
    "# Factor común\n",
    "\n",
    "Es la expresión comṕun que tienen todos los términos de una expresión algebraica.\n",
    "\n",
    "##### Ejemplos:\n",
    "\n",
    "1. Factoriza: $x^{6} - x^{5} + x^{2}$.\n",
    "\n",
    "**Solución**:\n",
    "\n",
    "Para encontrar el factor común se toma la letra que se repite y de menor exponente $(x^{2})$, después cada uno de los términos de la expresión algebraica se divide entre el factor común.\n",
    "\n",
    "$$\n",
    "\\frac{x^{6}}{x^{2}} = x^{4} \\hspace{3cm} -\\frac{x^{5}}{x^{2}} = -x^{3} \\hspace{3cm} \\frac{x^{2}}{x^{2}} = 1\n",
    "$$\n",
    "\n",
    "Los resultados se expresan de la siguiente manera:\n",
    "\n",
    "$$\n",
    "x^{6} - x^{5} + x^{2} = x^{2}(x^{4} - x^{3} + 1)\n",
    "$$\n",
    "\n",
    "2. Factoriza: $16a^{6}b^{7}c - 12a^{5}b^{2}c^{3} + 20a^{3}b^{10}$\n",
    "\n",
    "**Solución**:\n",
    "\n",
    "Se busca el factor común de los coeficientes, que es el máximo común divisor de ellos y también se busca el factor común de las literales:\n",
    "\n",
    "$$\n",
    "MCD(16, 12, 20) = 4 \\hspace{5cm} \\text{Factor común literal } = a^{3}b^{2}\n",
    "$$\n",
    "\n",
    "Se realizan las divisiones término a término y el resultado de la factorización es:\n",
    "\n",
    "$$\n",
    "16a^{6}b^{7}c - 12a^{5}b^{2}c^{3} + 20a^{3}b^{10} = 4a^{3}b^{2}(4a^{3}b^{5}-c - 3a^{2}c^{3} + 5b^{8})\n",
    "$$\n",
    "\n",
    "3. Obtén la factorización de la expresión: $18x^{2} - 12x + 54$.\n",
    "\n",
    "**Solución**:\n",
    "\n",
    "El máximo común divisor de los coeficientes es 6 y no existe un factor común literal, por tanto, la expresión tiene sólo un factor común numérico y se expresa como:\n",
    "\n",
    "$$\n",
    "18x^{2} - 12x + 54 =  6(3x^{2} - 2x + 9)\n",
    "$$\n",
    "\n",
    "4. Factoriza: $(2a - 3b)^{2} (5a - 7b)^{3} - (2a - 3b)^{3} (5a - 7b)^{2}$.\n",
    "\n",
    "**Solución**:\n",
    "\n",
    "En esta expresión el factor común está compuesto por binomios, por consiguiente, se toma de cada uno de ellos el de menor exponente y se realiza de la siguiente manera:\n",
    "\n",
    "$$\n",
    "(2a - 3b)^{2} (5a - 7b)^{3} - (2a - 3b)^{3} (5a - 7b)^{2} = (2a - 3b)^{2} (5a - 7b)^{2} [(5a - 7b) - (2a - 3b)]\n",
    "$$\n",
    "\n",
    "se reducen los términos semejantes del último factor:\n",
    "\n",
    "$$\n",
    "= (2a - 3b)^{2} (5a - 7b)^{2} [5a - 7b - 2a + 3b] \\\\\n",
    "= (2a - 3b)^{2} (5a - 7b)^{2} [3a - 4b]\n",
    "$$\n",
    "\n",
    "Finalmente, el resultado de la factorización es: $(2a - 3b)^{2} (5a - 7b)^{2} [3a - 4b]$"
   ]
  },
  {
   "cell_type": "markdown",
   "metadata": {},
   "source": [
    "##### Ejercicio 39:\n",
    "\n",
    "1. $a^{2} + a$\n",
    "2. $a^{3}b^{2} - 2a^{3}b$\n",
    "3. $a^{4} + a^{3} - a^{2}$\n",
    "4. $18x^{5} + 30x^{4}$\n",
    "5. $48x^{2} - 12x^{3} - 24x^{4}$\n",
    "\n",
    "___\n",
    "11. $6x^{2} - 6xy - 6x$\n",
    "12. $14x^{2}y^{2} - 28x^{3} + 56x^{4}$\n",
    "13. $34ax^{2} + 51a^{2}y - 68ay^{2}$\n",
    "14. $55m^{2}n^{3}x + 110m^{2}n^{3}x^{2} - 220m^{2}y^{3}$\n",
    "15. $25x^{7} - 10x^{5} + 15x^{3} - 5x^{2}$\n",
    "\n",
    "___\n",
    "22. $6x(3x - 1)^{2} + 2x^{2}(a - 3x)^{2}$\n",
    "23. $9(x + 1) - 3(x + 1)^{2}$\n",
    "24. $x^{2}(x + 2) - x(x + 2)$\n",
    "25. $4x^{2}(2x - 5)^{2} + 8x^{2}(2x - 5)$\n",
    "26. $(2x - 1)(x + 4) - (2x - 1)(3x + 1)$"
   ]
  },
  {
   "cell_type": "markdown",
   "metadata": {},
   "source": [
    "##### Ejercicio 39 (Respuestas):"
   ]
  },
  {
   "cell_type": "code",
   "execution_count": 17,
   "metadata": {},
   "outputs": [
    {
     "name": "stdout",
     "output_type": "stream",
     "text": [
      "Ejercicio 1\n"
     ]
    },
    {
     "data": {
      "text/latex": [
       "$\\displaystyle a \\left(a + 1\\right)$"
      ],
      "text/plain": [
       "a*(a + 1)"
      ]
     },
     "metadata": {},
     "output_type": "display_data"
    },
    {
     "name": "stdout",
     "output_type": "stream",
     "text": [
      "Ejercicio 2\n"
     ]
    },
    {
     "data": {
      "text/latex": [
       "$\\displaystyle a^{3} b \\left(b - 2\\right)$"
      ],
      "text/plain": [
       "a**3*b*(b - 2)"
      ]
     },
     "metadata": {},
     "output_type": "display_data"
    },
    {
     "name": "stdout",
     "output_type": "stream",
     "text": [
      "Ejercicio 3\n"
     ]
    },
    {
     "data": {
      "text/latex": [
       "$\\displaystyle a^{2} \\left(a^{2} + a - 1\\right)$"
      ],
      "text/plain": [
       "a**2*(a**2 + a - 1)"
      ]
     },
     "metadata": {},
     "output_type": "display_data"
    },
    {
     "name": "stdout",
     "output_type": "stream",
     "text": [
      "Ejercicio 4\n"
     ]
    },
    {
     "data": {
      "text/latex": [
       "$\\displaystyle 6 x^{4} \\left(3 x + 5\\right)$"
      ],
      "text/plain": [
       "6*x**4*(3*x + 5)"
      ]
     },
     "metadata": {},
     "output_type": "display_data"
    },
    {
     "name": "stdout",
     "output_type": "stream",
     "text": [
      "Ejercicio 5\n"
     ]
    },
    {
     "data": {
      "text/latex": [
       "$\\displaystyle - 12 x^{2} \\left(2 x^{2} + x - 4\\right)$"
      ],
      "text/plain": [
       "-12*x**2*(2*x**2 + x - 4)"
      ]
     },
     "metadata": {},
     "output_type": "display_data"
    }
   ],
   "source": [
    "import sympy as sp\n",
    "\n",
    "a, b, m, n, x, y = sp.symbols(\"a b m n x y\")\n",
    "\n",
    "ejercicios = []\n",
    "\n",
    "ejercicio1 = a**2 + a\n",
    "ejercicio2 = a**3 *b**2 - 2*a**3 *b\n",
    "ejercicio3 = a**4 + a**3 - a**2\n",
    "ejercicio4 = 18*x**5 + 30*x**4\n",
    "ejercicio5 = 48*x**2 - 12*x**3 - 24*x**4\n",
    "\n",
    "ejercicio11 = 6*x**2 - 6*x*y - 6*x\n",
    "ejercicio12 = 14*x**2 *y**2 - 28*x**3 + 56*x**4\n",
    "ejercicio13 = 34*a*x**2 + 51*a**2*y - 68*a*y**2\n",
    "ejercicio14 = 55*m**2 *n**3 *x + 110*m**2 *n**3 *x**2 - 220*m**2 *y**3\n",
    "ejercicio15 = 25*x**7 - 10*x**5 +15*x**3 - 5*x**2\n",
    "\n",
    "ejercicio22 = 6*x * (3*x - 1)**2 + 2*x**2 * (1 - 3*x)**2\n",
    "ejercicio23 = 9 * (x + 1) - 3 * (x + 1)**2\n",
    "ejercicio24 = x**2 * (x + 2) - x * (x + 2)\n",
    "ejercicio25 = 4*x**2 * (2 * x - 5)**2 + 8*x**2 * (2*x - 5)\n",
    "ejercicio26 = (2*x - 1) * (x + 4) - (2*x - 1) * (3*x + 1)\n",
    "\n",
    "ejercicios = [\n",
    "    (\"Ejercicio 1\", ejercicio1),\n",
    "    (\"Ejercicio 2\", ejercicio2),\n",
    "    (\"Ejercicio 3\", ejercicio3),\n",
    "    (\"Ejercicio 4\", ejercicio4),\n",
    "    (\"Ejercicio 5\", ejercicio5),\n",
    "    (\"Ejercicio 11\", ejercicio11),\n",
    "    (\"Ejercicio 12\", ejercicio12),\n",
    "    (\"Ejercicio 13\", ejercicio13),\n",
    "    (\"Ejercicio 14\", ejercicio14),\n",
    "    (\"Ejercicio 15\", ejercicio15),\n",
    "    (\"Ejercicio 22\", ejercicio22),\n",
    "    (\"Ejercicio 23\", ejercicio23),\n",
    "    (\"Ejercicio 24\", ejercicio24),\n",
    "    (\"Ejercicio 25\", ejercicio25),\n",
    "    (\"Ejercicio 26\", ejercicio26),\n",
    "]\n",
    "\n",
    "for ejercicio in ejercicios:\n",
    "    print(ejercicio[0])\n",
    "    display(sp.factor(ejercicio[1]))"
   ]
  },
  {
   "cell_type": "markdown",
   "metadata": {},
   "source": []
  }
 ],
 "metadata": {
  "kernelspec": {
   "display_name": "Python 3",
   "language": "python",
   "name": "python3"
  },
  "language_info": {
   "codemirror_mode": {
    "name": "ipython",
    "version": 3
   },
   "file_extension": ".py",
   "mimetype": "text/x-python",
   "name": "python",
   "nbconvert_exporter": "python",
   "pygments_lexer": "ipython3",
   "version": "3.10.12"
  }
 },
 "nbformat": 4,
 "nbformat_minor": 2
}
