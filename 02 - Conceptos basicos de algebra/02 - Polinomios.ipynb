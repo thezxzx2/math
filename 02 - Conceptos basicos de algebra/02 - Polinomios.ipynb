{
 "cells": [
  {
   "cell_type": "markdown",
   "metadata": {},
   "source": [
    "# Polinomios\n",
    "\n",
    "Expresión algebraica que consta de varios términos algebraicos."
   ]
  },
  {
   "cell_type": "markdown",
   "metadata": {},
   "source": [
    "## Suma\n",
    "\n",
    "En la suma los polinomios se escriben uno seguido del otro y se reducen los términos semejantes.\n",
    "\n",
    "##### Ejemplo:\n",
    "\n",
    "Suma los siguientes polinomios: $5x^{3} - 3x^{2} - 6x -4$; $-8x^{3} + 2x^{2} - 3$; $7x^{3} - 9x + 1$\n",
    "\n",
    "**Solución**:\n",
    "\n",
    "los polinomios se escriben de la siguiente forma y se realiza la reducción de términos semejantes:\n",
    "\n",
    "$$(5x^{3} - 3x^{2} - 6x - 4) + (-8x^{3} + 2x^{2} - 3) + (7x^{2} - 9x + 1) = -3x^{3} + 6x^{2} - 15x - 6$$"
   ]
  },
  {
   "cell_type": "code",
   "execution_count": null,
   "metadata": {},
   "outputs": [],
   "source": [
    "## Suma\n"
   ]
  }
 ],
 "metadata": {
  "language_info": {
   "name": "python"
  }
 },
 "nbformat": 4,
 "nbformat_minor": 2
}
