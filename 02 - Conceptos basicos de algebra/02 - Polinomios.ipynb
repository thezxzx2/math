{
 "cells": [
  {
   "cell_type": "markdown",
   "metadata": {},
   "source": [
    "# Polinomios\n",
    "\n",
    "Expresión algebraica que consta de varios términos algebraicos."
   ]
  },
  {
   "cell_type": "markdown",
   "metadata": {},
   "source": [
    "## Suma\n",
    "\n",
    "En la suma los polinomios se escriben uno seguido del otro y se reducen los términos semejantes.\n",
    "\n",
    "##### Ejemplo:\n",
    "\n",
    "Suma los siguientes polinomios: $5x^{3} - 3x^{2} - 6x -4$; $-8x^{3} + 2x^{2} - 3$; $7x^{3} - 9x + 1$\n",
    "\n",
    "**Solución**:\n",
    "\n",
    "Los polinomios se escriben de la siguiente forma y se realiza la reducción de términos semejantes:\n",
    "\n",
    "$$(5x^{3} - 3x^{2} - 6x - 4) + (-8x^{3} + 2x^{2} - 3) + (7x^{2} - 9x + 1) = -3x^{3} + 6x^{2} - 15x - 6$$\n",
    "\n",
    "##### Ejemplo:\n",
    "\n",
    "Efectúa la siguiente operación: $(2x - 7y -3z + 6) + (-9x + 4z) + (-x + 4y + z -8)$.\n",
    "\n",
    "**Solución**:\n",
    "\n",
    "Con un fin más práctico, se ordenan los polinomios haciendo coincidir los términos semejants en columnas; asimismo, se reducen los coeficientes término a término.\n",
    "\n",
    "$$\n",
    "\\begin{array}{r r r r r}\n",
    "    & 2x & - 7y & - 3z & + 6 \\\\\n",
    "+   & -9x &      &      & + 4z \\\\\n",
    "-   & x   & + 4y & + z  & - 8 \\\\\n",
    "\\hline\n",
    "    & -8x & - 3y & + 2z & - 2 \\\\\n",
    "\\end{array}\n",
    "$$"
   ]
  },
  {
   "cell_type": "markdown",
   "metadata": {},
   "source": [
    "##### Ejercicio 24:\n",
    "\n",
    "1. Suma los polinomios $3x - 8y - 2z$; $7x + 3y + z$\n",
    "2. ¿Cuál es la suma de $-5m - 3n + 6$ con $2m + 2n - 8$?\n",
    "3. Realiza $(11a - b + c) + (-8a - c)$\n",
    "4. Efectúa $(3p - 5q - 6r) + (2p + 3q - 2r) + (-12p + 4q + r)$\n",
    "5. Suma $6x^{2} + 3x - 2$ con $-x^{2} + 7x + 4$"
   ]
  },
  {
   "cell_type": "markdown",
   "metadata": {},
   "source": [
    "##### Ejercicio 24 (Respuestas):"
   ]
  },
  {
   "cell_type": "code",
   "execution_count": 5,
   "metadata": {},
   "outputs": [
    {
     "name": "stdout",
     "output_type": "stream",
     "text": [
      "Ejemplo 1\n"
     ]
    },
    {
     "data": {
      "text/latex": [
       "$\\displaystyle 10 x - 5 y - z$"
      ],
      "text/plain": [
       "10*x - 5*y - z"
      ]
     },
     "metadata": {},
     "output_type": "display_data"
    },
    {
     "name": "stdout",
     "output_type": "stream",
     "text": [
      "Ejemplo 2\n"
     ]
    },
    {
     "data": {
      "text/latex": [
       "$\\displaystyle - 3 m - n - 2$"
      ],
      "text/plain": [
       "-3*m - n - 2"
      ]
     },
     "metadata": {},
     "output_type": "display_data"
    },
    {
     "name": "stdout",
     "output_type": "stream",
     "text": [
      "Ejemplo 3\n"
     ]
    },
    {
     "data": {
      "text/latex": [
       "$\\displaystyle 3 a - b$"
      ],
      "text/plain": [
       "3*a - b"
      ]
     },
     "metadata": {},
     "output_type": "display_data"
    },
    {
     "name": "stdout",
     "output_type": "stream",
     "text": [
      "Ejemplo 4\n"
     ]
    },
    {
     "data": {
      "text/latex": [
       "$\\displaystyle - 7 p + 2 q - 7 r$"
      ],
      "text/plain": [
       "-7*p + 2*q - 7*r"
      ]
     },
     "metadata": {},
     "output_type": "display_data"
    },
    {
     "name": "stdout",
     "output_type": "stream",
     "text": [
      "Ejemplo 5\n"
     ]
    },
    {
     "data": {
      "text/latex": [
       "$\\displaystyle 5 x^{2} + 10 x + 2$"
      ],
      "text/plain": [
       "5*x**2 + 10*x + 2"
      ]
     },
     "metadata": {},
     "output_type": "display_data"
    }
   ],
   "source": [
    "import sympy as sp\n",
    "\n",
    "a, b, c, m, n, p, q, r, x, y, z = sp.symbols(\"a, b, c, m, n, p, q, r, x, y, z\")\n",
    "\n",
    "ejemplos = []\n",
    "\n",
    "ejemplo1 = 3*x - 8*y - 2*z + 7*x + 3*y + z\n",
    "ejemplo2 = -5*m - 3*n + 6 + 2*m + 2*n - 8\n",
    "ejemplo3 = (11*a - b + c) + (-8*a -c)\n",
    "ejemplo4 = (3*p - 5*q - 6*r) + (2*p + 3*q - 2*r) + (-12*p + 4*q + r)\n",
    "ejemplo5 = 6*x**2 + 3*x - 2 - x**2 + 7*x + 4\n",
    "\n",
    "ejemplos = [ejemplo1, ejemplo2, ejemplo3, ejemplo4, ejemplo5]\n",
    "\n",
    "for index, ejemplo in enumerate(ejemplos):\n",
    "    print(f\"Ejemplo {index + 1}\")\n",
    "    display(ejemplo)"
   ]
  },
  {
   "cell_type": "markdown",
   "metadata": {},
   "source": [
    "## Resta\n",
    "\n",
    "En esta operación es importante identificar el minuendo y el sustraendo, para posteriormente realizar la reducción de téreminos semejantes.\n",
    "\n",
    "##### Ejemplo:\n",
    "\n",
    "Realiza la siguiente operación: $(4a - 2b - 5c) - (3a - 5b - 7c)$\n",
    "\n",
    "**Solución**:\n",
    "\n",
    "En este ejemplo $4a - 2b - 5c$ representa al minuendo y $3a - 5b - 7c$ al sustraendo. Se suprimen los paréntesis y se procede a efectuar la reducción de términos semejantes.\n",
    "\n",
    "$$(4a - 2b - 5c) - (3a - 5b - 7c) = 4a - 3a - 2b + 5b - 5c + 7c$$\n",
    "$$= a + 3b + 2c$$\n",
    "\n",
    "##### Ejemplo:\n",
    "\n",
    "De $16x^{2} - 7x - 8$ restar $6x^{2} - 3x + 6$.\n",
    "\n",
    "**Solución**:\n",
    "\n",
    "El minuendo es $16x^{2} - 7x - 8$ y el sustraendo es $6x^{2} + 3x - 6$, entonces al sustraendo se le cambia el signo $-(6x^{2} - 3x + 6) = -6x^{2} + 3x - 6$ y se acomodan los polinomios en forma vertical para realizar las operaeciones entre los términos semejantes.\n",
    "\n",
    "$$\n",
    "\\begin{array}{r r r r r}\n",
    "    & 16x^{2} & - 7x & -8 \\\\\n",
    "    & - 6x^{2} & + 3x & -6 \\\\\n",
    "\\hline\n",
    "    & 10x^{2} & - 4x & - 14\n",
    "\\end{array}\n",
    "$$"
   ]
  },
  {
   "cell_type": "markdown",
   "metadata": {},
   "source": [
    "##### Ejercicio 25:\n",
    "\n",
    "1. De $5a^{2} - 3a + 2$ resta $8a^{2} - 5a + 7$\n",
    "2. ¿Cuál es el resultado de $(3x^{3} - 5x^{2} - 6x +3) - (2x^{3} + 4x - 8)$?\n",
    "3. De $4a^{4} - 10a^{3} + 2a^{2} - 3a - 4$ resta $5a^{5} - 3a^{3} + 6a - 3$\n",
    "4. Efectúa $(4x^{3}y^{2} - 5x^{2}y^{3} + 6x^{4}y - 8xy^{4}) - (12x^{2}y^{3} - 3xy^{4} + 4x^{3}y^{2} - 9x^{4}y)$\n",
    "5. De $7 - 8a^{5}b + 3a^{3}b^{3} - 6a^{4}b^{2} + 2ab^{5}$ resta $5a^{3}b^{3} - 3ab^{5} + 8 - 7a^{5}b - 2a^{4}b^{2}$"
   ]
  },
  {
   "cell_type": "markdown",
   "metadata": {},
   "source": [
    "##### Ejercicio 25 (Respuestas):"
   ]
  },
  {
   "cell_type": "code",
   "execution_count": 4,
   "metadata": {},
   "outputs": [
    {
     "name": "stdout",
     "output_type": "stream",
     "text": [
      "Ejercicio 1:\n"
     ]
    },
    {
     "data": {
      "text/latex": [
       "$\\displaystyle - 3 a^{2} + 2 a - 5$"
      ],
      "text/plain": [
       "-3*a**2 + 2*a - 5"
      ]
     },
     "metadata": {},
     "output_type": "display_data"
    },
    {
     "name": "stdout",
     "output_type": "stream",
     "text": [
      "Ejercicio 2:\n"
     ]
    },
    {
     "data": {
      "text/latex": [
       "$\\displaystyle x^{3} - 20 x + 11$"
      ],
      "text/plain": [
       "x**3 - 20*x + 11"
      ]
     },
     "metadata": {},
     "output_type": "display_data"
    },
    {
     "name": "stdout",
     "output_type": "stream",
     "text": [
      "Ejercicio 3:\n"
     ]
    },
    {
     "data": {
      "text/latex": [
       "$\\displaystyle - 5 a^{5} + 4 a^{4} - 7 a^{3} - 5 a - 1$"
      ],
      "text/plain": [
       "-5*a**5 + 4*a**4 - 7*a**3 - 5*a - 1"
      ]
     },
     "metadata": {},
     "output_type": "display_data"
    },
    {
     "name": "stdout",
     "output_type": "stream",
     "text": [
      "Ejercicio 4:\n"
     ]
    },
    {
     "data": {
      "text/latex": [
       "$\\displaystyle 15 x^{4} y - 17 x^{2} y^{3} - 5 x y^{4}$"
      ],
      "text/plain": [
       "15*x**4*y - 17*x**2*y**3 - 5*x*y**4"
      ]
     },
     "metadata": {},
     "output_type": "display_data"
    },
    {
     "name": "stdout",
     "output_type": "stream",
     "text": [
      "Ejercicio 5:\n"
     ]
    },
    {
     "data": {
      "text/latex": [
       "$\\displaystyle - a^{5} b - 4 a^{4} b^{2} - 2 a^{3} b^{3} + 5 a b^{5} - 1$"
      ],
      "text/plain": [
       "-a**5*b - 4*a**4*b**2 - 2*a**3*b**3 + 5*a*b**5 - 1"
      ]
     },
     "metadata": {},
     "output_type": "display_data"
    }
   ],
   "source": [
    "import sympy as sp\n",
    "\n",
    "a, b, x, y = sp.symbols(\"a b x y\")\n",
    "\n",
    "ejercicios = []\n",
    "\n",
    "ejercicio1 = (5*a**2 - 3*a + 2) - (8*a**2 - 5*a + 7)\n",
    "ejercicio2 = (3*x**3 - 5*x*+2 - 6*x + 3) - (2*x**3 + 4*x - 8)\n",
    "ejercicio3 = (4*a**4 - 10*a**3 + 2*a*+2 - 3*a - 4) - (5*a**5 - 3*a**3 + 6*a - 3)\n",
    "ejercicio4 = (4*x**3 *y**2 - 5*x**2 *y**3 + 6*x**4 *y - 8*x*y**4) - (12*x**2 *y**3 - 3*x*y**4 + 4*x**3 *y**2 - 9*x**4 *y)\n",
    "ejercicio5 = (7 - 8*a**5 *b + 3*a**3 *b**3 - 6*a**4 *b**2 + 2*a *b**5) - (5*a**3 *b**3 - 3*a *b**5 + 8 - 7*a**5 *b - 2*a**4 *b**2)\n",
    "\n",
    "\n",
    "ejercicios = [ejercicio1, ejercicio2, ejercicio3, ejercicio4, ejercicio5]\n",
    "\n",
    "for index, ejercicio in enumerate(ejercicios):\n",
    "    print(f\"Ejercicio {index + 1}:\")\n",
    "    display(ejercicio)"
   ]
  },
  {
   "cell_type": "markdown",
   "metadata": {},
   "source": [
    "## Signos de agrupación\n",
    "\n",
    "Los signos de agrupación se utilizan para indicar que las cantidades en su interior se deben considerar como una sola. Los signos son:\n",
    "\n",
    "$$ \\text{a) Corchetes [  ]} \\hspace{1cm} \\text{b) Paréntesis ( )} \\hspace{1cm} \\text{c) Llaves \\{ \\}} \\hspace{1cm} \\text{d) Vínculo ‾‾‾‾}$$"
   ]
  },
  {
   "cell_type": "markdown",
   "metadata": {},
   "source": [
    "## Reglas para suprimir los signos de agrupación\n",
    "\n",
    "Si el signo de agrupación está precedido por el signo \"$+$\", éste se suprime y las cantidades que están dentro de él conservan su signo:\n",
    "\n",
    "$$+(-a + b - c) = -a + b - c$$\n",
    "\n",
    "Si el signo de una agrupación está precedido por el signo \"$-$\", éste se suprime y cambia el signo d cada una de las cantidades que se encuentran dentro de él.\n",
    "\n",
    "$$\n",
    "-(x - 2y + 3z) = -x + 2y - 3z \\\\\n",
    "\\overline{-2x - 3y} = - (2x - 3y) = -2x + 3y\n",
    "$$\n",
    "\n",
    "Si en una expresión existen varios signos de agrupación se suprimen aquellos que no contengan otros. Este proceso se repite hasta llegar a una expresión que carezca de signos de agrupación."
   ]
  },
  {
   "cell_type": "markdown",
   "metadata": {},
   "source": [
    "## Multiplicación\n",
    "\n",
    "Para realizar esta operación es conveniente recordar las reglas de los signos.\n",
    "\n",
    "### Regla de los signos\n",
    "\n",
    "$$(+)(+) = + \\hspace{2cm} (+)(-) = - \\hspace{2cm} (-)(+) = - \\hspace{2cm} (-)(-) = +$$\n",
    "\n",
    "**Ley de los exponentes para la multiplicación**. En la multiplicación de términos con la misma base los exponentes se uman.\n",
    "\n",
    "$$a^{m} \\times a^{n} = a^{m + n}$$"
   ]
  },
  {
   "cell_type": "markdown",
   "metadata": {},
   "source": [
    "## Monomio por monomio\n",
    "\n",
    "Al multiplicar monomios, primer se multiplican los coeficientes y después las bases.\n",
    "\n",
    "#### Ejemplos:\n",
    "\n",
    "¿Cuál es el resultado de $(-5x^{4}y^{5}z)(3x^{2}y^{6}z)$?\n",
    "\n",
    "**Solución**:\n",
    "\n",
    "Se multiplican los coeficientes y las bases:\n",
    "\n",
    "$$(-5x^{4}y^{5}z)(3x^{2}y^{6}z) = (-5)(3) x^{4} x^{2} y^{5} y^{6} z z$$\n",
    "\n",
    "Se aplican las leyes de los signos y de los exponentes:\n",
    "\n",
    "$$\n",
    "= -15x^{4 + 2}y^{5 + 6}z^{1 + 1} \\\\\n",
    "= -15x^{6}y^{11}z^{2}\n",
    "$$\n",
    "\n",
    "___\n",
    "\n",
    "Realiza la siguiente operación: $\\left( - \\frac{5}{4} a^{6}b^{5}c^{5} \\right) \\left(- \\frac{2}{3}a^{2}bc^{4}\\right)$\n",
    "\n",
    "**Solución**:\n",
    "\n",
    "Se efectua el producto de las fracciones y se aplica la ley de los exponentes para las bases:\n",
    "\n",
    "$$\\left(- \\frac{5}{4} a^{6}b^{5}c^{5}\\right) \\left(- \\frac{2}{3} a^{2}bc^{4}\\right) = \\left(- \\frac{5}{4}\\right) \\left(- \\frac{2}{3}\\right) a^{6 + 2}b^{5 + 1}c^{5 + 4} = \\frac{10}{12} a^{8}b^{6}c^{9} = \\frac{5}{6} a^{8}b^{6}c^{9}$$"
   ]
  },
  {
   "cell_type": "markdown",
   "metadata": {},
   "source": [
    "##### Ejercicio 27:\n",
    "\n",
    "1. $(5x)(-3x)$\n",
    "2. $(4x^{3}y^{5}z)(6x^{5}y^{4}z)$\n",
    "3. $(-7a^{5}c^{2})(2a^{4}bc^{6})$\n",
    "4. $(\\frac{3}{4}xyz)(- \\frac{2}{5}z^{4})$\n",
    "\n",
    "___\n",
    "\n",
    "13. $(0.5m^{6}p^{5})(0.2m^{2}n)$\n",
    "14. $(0.4abc)(0.12xyz)$\n",
    "15. $(5a^{m} b^{n} c)(-2a^{2} b^{3} c)$\n",
    "16. $(6m^{2x + 8} n^{4x}) (-7m^{x - 6} n^{5})$"
   ]
  },
  {
   "cell_type": "markdown",
   "metadata": {},
   "source": [
    "##### Ejercicio 27 (Respuestas):"
   ]
  },
  {
   "cell_type": "code",
   "execution_count": 6,
   "metadata": {},
   "outputs": [
    {
     "name": "stdout",
     "output_type": "stream",
     "text": [
      "Ejercicio 1\n"
     ]
    },
    {
     "data": {
      "text/latex": [
       "$\\displaystyle - 15 x^{2}$"
      ],
      "text/plain": [
       "-15*x**2"
      ]
     },
     "metadata": {},
     "output_type": "display_data"
    },
    {
     "name": "stdout",
     "output_type": "stream",
     "text": [
      "Ejercicio 2\n"
     ]
    },
    {
     "data": {
      "text/latex": [
       "$\\displaystyle 24 x^{8} y^{9} z^{2}$"
      ],
      "text/plain": [
       "24*x**8*y**9*z**2"
      ]
     },
     "metadata": {},
     "output_type": "display_data"
    },
    {
     "name": "stdout",
     "output_type": "stream",
     "text": [
      "Ejercicio 3\n"
     ]
    },
    {
     "data": {
      "text/latex": [
       "$\\displaystyle - 14 a^{9} b c^{8}$"
      ],
      "text/plain": [
       "-14*a**9*b*c**8"
      ]
     },
     "metadata": {},
     "output_type": "display_data"
    },
    {
     "name": "stdout",
     "output_type": "stream",
     "text": [
      "Ejercicio 4\n"
     ]
    },
    {
     "data": {
      "text/latex": [
       "$\\displaystyle - \\frac{3 x y z^{5}}{10}$"
      ],
      "text/plain": [
       "-3*x*y*z**5/10"
      ]
     },
     "metadata": {},
     "output_type": "display_data"
    },
    {
     "name": "stdout",
     "output_type": "stream",
     "text": [
      "Ejercicio 13\n"
     ]
    },
    {
     "data": {
      "text/latex": [
       "$\\displaystyle 0.1 m^{8} n p^{5}$"
      ],
      "text/plain": [
       "0.1*m**8*n*p**5"
      ]
     },
     "metadata": {},
     "output_type": "display_data"
    },
    {
     "name": "stdout",
     "output_type": "stream",
     "text": [
      "Ejercicio 14\n"
     ]
    },
    {
     "data": {
      "text/latex": [
       "$\\displaystyle 0.048 a b c x y z$"
      ],
      "text/plain": [
       "0.048*a*b*c*x*y*z"
      ]
     },
     "metadata": {},
     "output_type": "display_data"
    },
    {
     "name": "stdout",
     "output_type": "stream",
     "text": [
      "Ejercicio 15\n"
     ]
    },
    {
     "data": {
      "text/latex": [
       "$\\displaystyle - 10 a^{m + 2} b^{n + 3} c^{2}$"
      ],
      "text/plain": [
       "-10*a**(m + 2)*b**(n + 3)*c**2"
      ]
     },
     "metadata": {},
     "output_type": "display_data"
    },
    {
     "name": "stdout",
     "output_type": "stream",
     "text": [
      "Ejercicio 16\n"
     ]
    },
    {
     "data": {
      "text/latex": [
       "$\\displaystyle - 42 m^{3 x + 2} n^{4 x + 5}$"
      ],
      "text/plain": [
       "-42*m**(3*x + 2)*n**(4*x + 5)"
      ]
     },
     "metadata": {},
     "output_type": "display_data"
    }
   ],
   "source": [
    "import sympy as sp\n",
    "\n",
    "a, b, c, m, n, p, x, y, z = sp.symbols(\"a b c m n p x y z\")\n",
    "\n",
    "ejercicios = []\n",
    "\n",
    "ejercicio1 = (5*x) * (-3*x)\n",
    "ejercicio2 = (4*x**3 * y**5 * z) * (6*x**5 * y**4 * z)\n",
    "ejercicio3 = (-7*a**5 *c**2) * (2*a**4 *b * c**6)\n",
    "ejercicio4 = (sp.Rational(3,4) * x*y*z) * (- sp.Rational(2, 5) *z**4)\n",
    "ejercicio13 = (0.5*m**6 * p**5) * (0.2*m**2 * n)\n",
    "ejercicio14 = (0.4*a*b*c) * (0.12*x*y*z)\n",
    "ejercicio15 = (5*a**m *b**n * c) * (-2*a**2 *b**3 * c)\n",
    "ejercicio16 = (6*m**(2*x + 8) * n**(4*x)) * (-7*m**(x - 6) * n**5)\n",
    "\n",
    "ejercicios = [\n",
    "    (\"Ejercicio 1\", ejercicio1),\n",
    "    (\"Ejercicio 2\", ejercicio2),\n",
    "    (\"Ejercicio 3\", ejercicio3),\n",
    "    (\"Ejercicio 4\", ejercicio4),\n",
    "    (\"Ejercicio 13\", ejercicio13),\n",
    "    (\"Ejercicio 14\", ejercicio14),\n",
    "    (\"Ejercicio 15\", ejercicio15),\n",
    "    (\"Ejercicio 16\", ejercicio16),\n",
    "]\n",
    "\n",
    "\n",
    "for ejercicio in ejercicios:\n",
    "    print(ejercicio[0])\n",
    "    display(ejercicio[1].simplify())"
   ]
  },
  {
   "cell_type": "markdown",
   "metadata": {},
   "source": [
    "## Polinomio por monomio\n",
    "\n",
    "Se multiplica cada uno de los términos del polinomio por el monomio o viceversa.\n",
    "\n",
    "##### Ejemplos:\n",
    "\n",
    "1. Resuelve $(5x^{5}y^{4} - 3x^{4}y^{3}z + 4xz^{4}) (-3x^{4}y)$\n",
    "\n",
    "**Solución**:\n",
    "\n",
    "Se multiplica cada uno de los términos del polinomio por el monomio:\n",
    "\n",
    "$$(5x^{5}y^{4} - 3x^{4}y^{3}z + 4xz^{4}) (-3x^{4}y) = (5x^{5})(-3x^{4}y) + (-3x^{4}y^{3}z)(-3x^{4}y) + (4xz^{4})(-3x^{4}y)$$\n",
    "$$= -15x^{9}y^{5} + 9x^{8}y^{4}z - 12x^{5}yz^{4}$$\n",
    "\n",
    "2. Realiza el siguiente producto: $(-7xa^{x + 3}b^{1 - 2x})(4a^{3x - 1}b^{2x} - 5a^{3x - 2}b^{2x + 1} + 3a^{3x - 3}b^{2x + 2})$\n",
    "\n",
    "**Solución**:\n",
    "\n",
    "Se realiza el producto del monomio por cada uno de los elementos del polinomio:\n",
    "\n",
    "$(-7xa^{x + 3}b^{1 - 2x})(4a^{3x - 1}b^{2x} - 5a^{3x - 2}b^{2x + 1} + 3a^{3x - 3}b^{2x + 2})$\n",
    "\n",
    "$= (-7xa^{x + 3}b^{1 - 2x}) (4a^{3x - 1}b^{2x}) + (-7xa^{x + 3}b^{1 - 2x}) (-5a^{3x - 2}b^{2x + 1}) + (-7xa^{x + 3}b^{1 - 2x}) (3a^{3x - 3}b^{2x + 2})$\n",
    "\n",
    "$= -28a^{4x + 2}b + 35a^{4x + 1}b^{2} - 21a^{4x}b^{3}$\n",
    "\n",
    "3. Resuelve el siguiente producto: $\\left(\\frac{4}{5}x^{m - 1} - \\frac{2}{3}x^{m - 2} + \\frac{3}{4}x^{m - 3}\\right) \\left(- \\frac{2}{3}x^{m + 1}\\right)$\n",
    "\n",
    "**Solución**:\n",
    "\n",
    "Se multiplica el monomio por cada uno de los elementos del polinomio:\n",
    "\n",
    "$\\left(\\frac{4}{5}x^{m - 1} - \\frac{2}{3}x^{m - 2} + \\frac{3}{4}x^{m - 3}\\right) \\left(- \\frac{2}{3}x^{m + 1}\\right)$\n",
    "\n",
    "$= \\left(\\frac{4}{5}x^{m - 1} \\right) \\left(- \\frac{2}{3}x^{m + 1}\\right) + \\left(- \\frac{2}{3}x^{m - 2}\\right) \\left(- \\frac{2}{3}x^{m + 1}\\right) + \\left(\\frac{3}{4}x^{m - 3}\\right) \\left(- \\frac{2}{3}x^{m + 1}\\right) $\n",
    "\n",
    "$= - \\frac{8}{15}x^{2m} + \\frac{4}{9}x^{2m - 1} - \\frac{1}{2}x^{2m - 2}$"
   ]
  },
  {
   "cell_type": "markdown",
   "metadata": {},
   "source": [
    "##### Ejercicio 28:\n",
    "\n",
    "1. $(4a^{2} - 7ab)(2a^{3}b)$\n",
    "2. $(-3m)(5m^{4} - 3m^{3} + 6m - 3)$\n",
    "3. $(3x^{3} - 7x^{2} - 2x)(xy)$\n",
    "4. $(-3ab)(2a^{2} - 7ab + 8b^{2})$\n",
    "\n",
    "___\n",
    "9. $(5m^{6}n - 3mn^{4} + 2mn)(3m^{x + 1}n^{2x})$\n",
    "\n",
    "___\n",
    "14. $\\left(\\frac{1}{2}a^{2} - \\frac{3}{5}b^{2} - \\frac{3}{4}ab\\right) \\left(\\frac{2}{3}ab^{2}\\right)$\n",
    "15. $\\left(\\frac{4}{3}x^{3}y\\right) \\left(\\frac{3}{4}x^{2} - \\frac{1}{3}y^{2} + 6xy\\right)$"
   ]
  },
  {
   "cell_type": "markdown",
   "metadata": {},
   "source": [
    "##### Ejercicio 28 (Respuestas):"
   ]
  },
  {
   "cell_type": "code",
   "execution_count": 15,
   "metadata": {},
   "outputs": [
    {
     "name": "stdout",
     "output_type": "stream",
     "text": [
      "Ejercicio 1\n"
     ]
    },
    {
     "data": {
      "text/latex": [
       "$\\displaystyle 8 a^{5} b - 14 a^{4} b^{2}$"
      ],
      "text/plain": [
       "8*a**5*b - 14*a**4*b**2"
      ]
     },
     "metadata": {},
     "output_type": "display_data"
    },
    {
     "name": "stdout",
     "output_type": "stream",
     "text": [
      "Ejercicio 2\n"
     ]
    },
    {
     "data": {
      "text/latex": [
       "$\\displaystyle - 15 m^{5} + 9 m^{4} - 18 m^{2} + 9 m$"
      ],
      "text/plain": [
       "-15*m**5 + 9*m**4 - 18*m**2 + 9*m"
      ]
     },
     "metadata": {},
     "output_type": "display_data"
    },
    {
     "name": "stdout",
     "output_type": "stream",
     "text": [
      "Ejercicio 3\n"
     ]
    },
    {
     "data": {
      "text/latex": [
       "$\\displaystyle 3 x^{4} y - 7 x^{3} y - 2 x^{2} y$"
      ],
      "text/plain": [
       "3*x**4*y - 7*x**3*y - 2*x**2*y"
      ]
     },
     "metadata": {},
     "output_type": "display_data"
    },
    {
     "name": "stdout",
     "output_type": "stream",
     "text": [
      "Ejercicio 4\n"
     ]
    },
    {
     "data": {
      "text/latex": [
       "$\\displaystyle - 6 a^{3} b + 21 a^{2} b^{2} - 24 a b^{3}$"
      ],
      "text/plain": [
       "-6*a**3*b + 21*a**2*b**2 - 24*a*b**3"
      ]
     },
     "metadata": {},
     "output_type": "display_data"
    },
    {
     "name": "stdout",
     "output_type": "stream",
     "text": [
      "Ejercicio 9\n"
     ]
    },
    {
     "data": {
      "text/latex": [
       "$\\displaystyle 15 m^{6} m^{x + 1} n n^{2 x} - 9 m m^{x + 1} n^{4} n^{2 x} + 6 m m^{x + 1} n n^{2 x}$"
      ],
      "text/plain": [
       "15*m**6*m**(x + 1)*n*n**(2*x) - 9*m*m**(x + 1)*n**4*n**(2*x) + 6*m*m**(x + 1)*n*n**(2*x)"
      ]
     },
     "metadata": {},
     "output_type": "display_data"
    },
    {
     "name": "stdout",
     "output_type": "stream",
     "text": [
      "Ejercicio 14\n"
     ]
    },
    {
     "data": {
      "text/latex": [
       "$\\displaystyle \\frac{a^{3} b^{2}}{3} - \\frac{a^{2} b^{3}}{2} - \\frac{2 a b^{4}}{5}$"
      ],
      "text/plain": [
       "a**3*b**2/3 - a**2*b**3/2 - 2*a*b**4/5"
      ]
     },
     "metadata": {},
     "output_type": "display_data"
    },
    {
     "name": "stdout",
     "output_type": "stream",
     "text": [
      "Ejercicio 15\n"
     ]
    },
    {
     "data": {
      "text/latex": [
       "$\\displaystyle x^{5} y + 8 x^{4} y^{2} - \\frac{4 x^{3} y^{3}}{9}$"
      ],
      "text/plain": [
       "x**5*y + 8*x**4*y**2 - 4*x**3*y**3/9"
      ]
     },
     "metadata": {},
     "output_type": "display_data"
    }
   ],
   "source": [
    "import sympy as sp\n",
    "\n",
    "a, b, m, n, x, y = sp.symbols(\"a b m n x y\")\n",
    "\n",
    "ejercicios = []\n",
    "\n",
    "ejercicio1 = (4*a**2 - 7*a*b) * (2*a**3 *b)\n",
    "ejercicio2 = (-3*m) * (5*m**4 - 3*m**3 + 6*m - 3)\n",
    "ejercicio3 = (3*x**3 - 7*x**2 - 2*x) * (x*y)\n",
    "ejercicio4 = (-3*a*b) * (2*a**2 - 7*a*b + 8*b**2)\n",
    "ejercicio9 = (5*m**6 * n - 3*m*n**4 + 2*m*n) * (3*m**(x + 1) * n**(2*x))\n",
    "ejercicio14 = (sp.Rational(1, 2) *a**2 - sp.Rational(3, 5) * b**2 - sp.Rational(3, 4) *a * b) * (sp.Rational(2, 3)*a*b**2)\n",
    "ejercicio15 = (sp.Rational(4, 3)*x**3 * y) * (sp.Rational(3, 4) * x**2 - sp.Rational(1, 3) * y**2 + 6*x*y)\n",
    "\n",
    "ejercicios = [\n",
    "    (\"Ejercicio 1\", ejercicio1),\n",
    "    (\"Ejercicio 2\", ejercicio2),\n",
    "    (\"Ejercicio 3\", ejercicio3),\n",
    "    (\"Ejercicio 4\", ejercicio4),\n",
    "    (\"Ejercicio 9\", ejercicio9),\n",
    "    (\"Ejercicio 14\", ejercicio14),\n",
    "    (\"Ejercicio 15\", ejercicio15),\n",
    "]\n",
    "\n",
    "for ejercicio in ejercicios:\n",
    "    print(ejercicio[0])\n",
    "    display(ejercicio[1].expand())"
   ]
  },
  {
   "cell_type": "code",
   "execution_count": null,
   "metadata": {},
   "outputs": [],
   "source": []
  }
 ],
 "metadata": {
  "kernelspec": {
   "display_name": "Python 3",
   "language": "python",
   "name": "python3"
  },
  "language_info": {
   "codemirror_mode": {
    "name": "ipython",
    "version": 3
   },
   "file_extension": ".py",
   "mimetype": "text/x-python",
   "name": "python",
   "nbconvert_exporter": "python",
   "pygments_lexer": "ipython3",
   "version": "3.10.12"
  }
 },
 "nbformat": 4,
 "nbformat_minor": 2
}
