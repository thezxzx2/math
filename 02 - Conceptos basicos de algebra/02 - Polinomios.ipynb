{
 "cells": [
  {
   "cell_type": "markdown",
   "metadata": {},
   "source": [
    "# Polinomios\n",
    "\n",
    "Expresión algebraica que consta de varios términos algebraicos."
   ]
  },
  {
   "cell_type": "markdown",
   "metadata": {},
   "source": [
    "## Suma\n",
    "\n",
    "En la suma los polinomios se escriben uno seguido del otro y se reducen los términos semejantes.\n",
    "\n",
    "##### Ejemplo:\n",
    "\n",
    "Suma los siguientes polinomios: $5x^{3} - 3x^{2} - 6x -4$; $-8x^{3} + 2x^{2} - 3$; $7x^{3} - 9x + 1$\n",
    "\n",
    "**Solución**:\n",
    "\n",
    "Los polinomios se escriben de la siguiente forma y se realiza la reducción de términos semejantes:\n",
    "\n",
    "$$(5x^{3} - 3x^{2} - 6x - 4) + (-8x^{3} + 2x^{2} - 3) + (7x^{2} - 9x + 1) = -3x^{3} + 6x^{2} - 15x - 6$$\n",
    "\n",
    "##### Ejemplo:\n",
    "\n",
    "Efectúa la siguiente operación: $(2x - 7y -3z + 6) + (-9x + 4z) + (-x + 4y + z -8)$.\n",
    "\n",
    "**Solución**:\n",
    "\n",
    "Con un fin más práctico, se ordenan los polinomios haciendo coincidir los términos semejants en columnas; asimismo, se reducen los coeficientes término a término.\n",
    "\n",
    "$$\n",
    "\\begin{array}{r r r r r}\n",
    "    & 2x & - 7y & - 3z & + 6 \\\\\n",
    "+   & -9x &      &      & + 4z \\\\\n",
    "-   & x   & + 4y & + z  & - 8 \\\\\n",
    "\\hline\n",
    "    & -8x & - 3y & + 2z & - 2 \\\\\n",
    "\\end{array}\n",
    "$$"
   ]
  },
  {
   "cell_type": "markdown",
   "metadata": {},
   "source": [
    "##### Ejercicio 24:\n",
    "\n",
    "1. Suma los polinomios $3x - 8y - 2z$; $7x + 3y + z$\n",
    "2. ¿Cuál es la suma de $-5m - 3n + 6$ con $2m + 2n - 8$?\n",
    "3. Realiza $(11a - b + c) + (-8a - c)$\n",
    "4. Efectúa $(3p - 5q - 6r) + (2p + 3q - 2r) + (-12p + 4q + r)$\n",
    "5. Suma $6x^{2} + 3x - 2$ con $-x^{2} + 7x + 4$"
   ]
  },
  {
   "cell_type": "markdown",
   "metadata": {},
   "source": [
    "##### Ejercicio 24 (Respuestas):"
   ]
  },
  {
   "cell_type": "code",
   "execution_count": 5,
   "metadata": {},
   "outputs": [
    {
     "name": "stdout",
     "output_type": "stream",
     "text": [
      "Ejemplo 1\n"
     ]
    },
    {
     "data": {
      "text/latex": [
       "$\\displaystyle 10 x - 5 y - z$"
      ],
      "text/plain": [
       "10*x - 5*y - z"
      ]
     },
     "metadata": {},
     "output_type": "display_data"
    },
    {
     "name": "stdout",
     "output_type": "stream",
     "text": [
      "Ejemplo 2\n"
     ]
    },
    {
     "data": {
      "text/latex": [
       "$\\displaystyle - 3 m - n - 2$"
      ],
      "text/plain": [
       "-3*m - n - 2"
      ]
     },
     "metadata": {},
     "output_type": "display_data"
    },
    {
     "name": "stdout",
     "output_type": "stream",
     "text": [
      "Ejemplo 3\n"
     ]
    },
    {
     "data": {
      "text/latex": [
       "$\\displaystyle 3 a - b$"
      ],
      "text/plain": [
       "3*a - b"
      ]
     },
     "metadata": {},
     "output_type": "display_data"
    },
    {
     "name": "stdout",
     "output_type": "stream",
     "text": [
      "Ejemplo 4\n"
     ]
    },
    {
     "data": {
      "text/latex": [
       "$\\displaystyle - 7 p + 2 q - 7 r$"
      ],
      "text/plain": [
       "-7*p + 2*q - 7*r"
      ]
     },
     "metadata": {},
     "output_type": "display_data"
    },
    {
     "name": "stdout",
     "output_type": "stream",
     "text": [
      "Ejemplo 5\n"
     ]
    },
    {
     "data": {
      "text/latex": [
       "$\\displaystyle 5 x^{2} + 10 x + 2$"
      ],
      "text/plain": [
       "5*x**2 + 10*x + 2"
      ]
     },
     "metadata": {},
     "output_type": "display_data"
    }
   ],
   "source": [
    "import sympy as sp\n",
    "\n",
    "a, b, c, m, n, p, q, r, x, y, z = sp.symbols(\"a, b, c, m, n, p, q, r, x, y, z\")\n",
    "\n",
    "ejemplos = []\n",
    "\n",
    "ejemplo1 = 3*x - 8*y - 2*z + 7*x + 3*y + z\n",
    "ejemplo2 = -5*m - 3*n + 6 + 2*m + 2*n - 8\n",
    "ejemplo3 = (11*a - b + c) + (-8*a -c)\n",
    "ejemplo4 = (3*p - 5*q - 6*r) + (2*p + 3*q - 2*r) + (-12*p + 4*q + r)\n",
    "ejemplo5 = 6*x**2 + 3*x - 2 - x**2 + 7*x + 4\n",
    "\n",
    "ejemplos = [ejemplo1, ejemplo2, ejemplo3, ejemplo4, ejemplo5]\n",
    "\n",
    "for index, ejemplo in enumerate(ejemplos):\n",
    "    print(f\"Ejemplo {index + 1}\")\n",
    "    display(ejemplo)"
   ]
  },
  {
   "cell_type": "markdown",
   "metadata": {},
   "source": [
    "## Resta\n",
    "\n",
    "En esta operación es importante identificar el minuendo y el sustraendo, para posteriormente realizar la reducción de téreminos semejantes.\n",
    "\n",
    "##### Ejemplo:\n",
    "\n",
    "Realiza la siguiente operación: $(4a - 2b - 5c) - (3a - 5b - 7c)$\n",
    "\n",
    "**Solución**:\n",
    "\n",
    "En este ejemplo $4a - 2b - 5c$ representa al minuendo y $3a - 5b - 7c$ al sustraendo. Se suprimen los paréntesis y se procede a efectuar la reducción de términos semejantes.\n",
    "\n",
    "$$(4a - 2b - 5c) - (3a - 5b - 7c) = 4a - 3a - 2b + 5b - 5c + 7c$$\n",
    "$$= a + 3b + 2c$$\n",
    "\n",
    "##### Ejemplo:\n",
    "\n",
    "De $16x^{2} - 7x - 8$ restar $6x^{2} - 3x + 6$.\n",
    "\n",
    "**Solución**:\n",
    "\n",
    "El minuendo es $16x^{2} - 7x - 8$ y el sustraendo es $6x^{2} + 3x - 6$, entonces al sustraendo se le cambia el signo $-(6x^{2} - 3x + 6) = -6x^{2} + 3x - 6$ y se acomodan los polinomios en forma vertical para realizar las operaeciones entre los términos semejantes.\n",
    "\n",
    "$$\n",
    "\\begin{array}{r r r r r}\n",
    "    & 16x^{2} & - 7x & -8 \\\\\n",
    "    & - 6x^{2} & + 3x & -6 \\\\\n",
    "\\hline\n",
    "    & 10x^{2} & - 4x & - 14\n",
    "\\end{array}\n",
    "$$"
   ]
  },
  {
   "cell_type": "markdown",
   "metadata": {},
   "source": [
    "##### Ejercicio 25:\n",
    "\n",
    "1. De $5a^{2} - 3a + 2$ resta $8a^{2} - 5a + 7$\n",
    "2. ¿Cuál es el resultado de $(3x^{3} - 5x^{2} - 6x +3) - (2x^{3} + 4x - 8)$?\n",
    "3. De $4a^{4} - 10a^{3} + 2a^{2} - 3a - 4$ resta $5a^{5} - 3a^{3} + 6a - 3$\n",
    "4. Efectúa $(4x^{3}y^{2} - 5x^{2}y^{3} + 6x^{4}y - 8xy^{4}) - (12x^{2}y^{3} - 3xy^{4} + 4x^{3}y^{2} - 9x^{4}y)$\n",
    "5. De $7 - 8a^{5}b + 3a^{3}b^{3} - 6a^{4}b^{2} + 2ab^{5}$ resta $5a^{3}b^{3} - 3ab^{5} + 8 - 7a^{5}b - 2a^{4}b^{2}$"
   ]
  },
  {
   "cell_type": "markdown",
   "metadata": {},
   "source": [
    "##### Ejercicio 25 (Respuestas):"
   ]
  },
  {
   "cell_type": "code",
   "execution_count": 4,
   "metadata": {},
   "outputs": [
    {
     "name": "stdout",
     "output_type": "stream",
     "text": [
      "Ejercicio 1:\n"
     ]
    },
    {
     "data": {
      "text/latex": [
       "$\\displaystyle - 3 a^{2} + 2 a - 5$"
      ],
      "text/plain": [
       "-3*a**2 + 2*a - 5"
      ]
     },
     "metadata": {},
     "output_type": "display_data"
    },
    {
     "name": "stdout",
     "output_type": "stream",
     "text": [
      "Ejercicio 2:\n"
     ]
    },
    {
     "data": {
      "text/latex": [
       "$\\displaystyle x^{3} - 20 x + 11$"
      ],
      "text/plain": [
       "x**3 - 20*x + 11"
      ]
     },
     "metadata": {},
     "output_type": "display_data"
    },
    {
     "name": "stdout",
     "output_type": "stream",
     "text": [
      "Ejercicio 3:\n"
     ]
    },
    {
     "data": {
      "text/latex": [
       "$\\displaystyle - 5 a^{5} + 4 a^{4} - 7 a^{3} - 5 a - 1$"
      ],
      "text/plain": [
       "-5*a**5 + 4*a**4 - 7*a**3 - 5*a - 1"
      ]
     },
     "metadata": {},
     "output_type": "display_data"
    },
    {
     "name": "stdout",
     "output_type": "stream",
     "text": [
      "Ejercicio 4:\n"
     ]
    },
    {
     "data": {
      "text/latex": [
       "$\\displaystyle 15 x^{4} y - 17 x^{2} y^{3} - 5 x y^{4}$"
      ],
      "text/plain": [
       "15*x**4*y - 17*x**2*y**3 - 5*x*y**4"
      ]
     },
     "metadata": {},
     "output_type": "display_data"
    },
    {
     "name": "stdout",
     "output_type": "stream",
     "text": [
      "Ejercicio 5:\n"
     ]
    },
    {
     "data": {
      "text/latex": [
       "$\\displaystyle - a^{5} b - 4 a^{4} b^{2} - 2 a^{3} b^{3} + 5 a b^{5} - 1$"
      ],
      "text/plain": [
       "-a**5*b - 4*a**4*b**2 - 2*a**3*b**3 + 5*a*b**5 - 1"
      ]
     },
     "metadata": {},
     "output_type": "display_data"
    }
   ],
   "source": [
    "import sympy as sp\n",
    "\n",
    "a, b, x, y = sp.symbols(\"a b x y\")\n",
    "\n",
    "ejercicios = []\n",
    "\n",
    "ejercicio1 = (5*a**2 - 3*a + 2) - (8*a**2 - 5*a + 7)\n",
    "ejercicio2 = (3*x**3 - 5*x*+2 - 6*x + 3) - (2*x**3 + 4*x - 8)\n",
    "ejercicio3 = (4*a**4 - 10*a**3 + 2*a*+2 - 3*a - 4) - (5*a**5 - 3*a**3 + 6*a - 3)\n",
    "ejercicio4 = (4*x**3 *y**2 - 5*x**2 *y**3 + 6*x**4 *y - 8*x*y**4) - (12*x**2 *y**3 - 3*x*y**4 + 4*x**3 *y**2 - 9*x**4 *y)\n",
    "ejercicio5 = (7 - 8*a**5 *b + 3*a**3 *b**3 - 6*a**4 *b**2 + 2*a *b**5) - (5*a**3 *b**3 - 3*a *b**5 + 8 - 7*a**5 *b - 2*a**4 *b**2)\n",
    "\n",
    "\n",
    "ejercicios = [ejercicio1, ejercicio2, ejercicio3, ejercicio4, ejercicio5]\n",
    "\n",
    "for index, ejercicio in enumerate(ejercicios):\n",
    "    print(f\"Ejercicio {index + 1}:\")\n",
    "    display(ejercicio)"
   ]
  },
  {
   "cell_type": "code",
   "execution_count": null,
   "metadata": {},
   "outputs": [],
   "source": []
  }
 ],
 "metadata": {
  "kernelspec": {
   "display_name": "Python 3",
   "language": "python",
   "name": "python3"
  },
  "language_info": {
   "codemirror_mode": {
    "name": "ipython",
    "version": 3
   },
   "file_extension": ".py",
   "mimetype": "text/x-python",
   "name": "python",
   "nbconvert_exporter": "python",
   "pygments_lexer": "ipython3",
   "version": "3.10.12"
  }
 },
 "nbformat": 4,
 "nbformat_minor": 2
}
