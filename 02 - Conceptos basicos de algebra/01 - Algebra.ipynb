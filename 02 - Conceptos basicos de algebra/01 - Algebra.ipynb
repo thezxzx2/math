{
 "cells": [
  {
   "cell_type": "markdown",
   "metadata": {},
   "source": [
    "# Álgebra\n",
    "\n",
    "Rama de las matemáticas que trata a las cantidades de manera general."
   ]
  },
  {
   "cell_type": "markdown",
   "metadata": {},
   "source": [
    "## Expresiones algebraicas\n",
    "\n",
    "Se conoce así a la combinación de números reales (*constantes*) y literales o letras (*variables*) que representan cantidades, mediante operaciones de suma, resta, multiplicación, división, potenciación, etcétera.\n",
    "\n",
    "**Término algebraico**. Es un sumando de una expresión algebraica y representa una cantidad. A todo término algebraico se le denomina ***monomio*** y consta de: **coeficiente**, **base(s)** y **exponente(s)**.\n",
    "\n",
    "\n",
    "| Término                           | Coeficiente | Base(s)  | Exponente(s)  |\n",
    "|------------------------------------|-------------|----------|---------------|\n",
    "| $(-8y^3)$                          | $-8$      | $y$    | $3$         |\n",
    "| $\\frac{1}{3} mn^x$               | $\\frac{1}{3}$ | $m, n$ | $1, x$      |\n",
    "| $-\\frac{3}{4} (2x + 1)^{-2}$     | $-\\frac{3}{4}$ | $2x + 1$ | $-2$        |\n",
    "\n",
    "**Términos semejantes**. Dos o más términos son semejantes cuando los mismos exponentes afectan a la mismas bases.\n",
    "\n",
    "##### Ejemplos:\n",
    "\n",
    "Los siguientes términos tienen las mismas bases con sus respectivos exponentes iguales, por lo consiguiente son semejantes:\n",
    "\n",
    "$$-7b \\text{ con } 4b \\hspace{5cm} -8x^{2}y^{3} \\text{ con } 7x^{2}y^{3} \\hspace{5cm} \\frac{1}{6}abc^{2} \\text{ con } abc^{2}$$\n"
   ]
  },
  {
   "cell_type": "markdown",
   "metadata": {},
   "source": [
    "## Reducción de términos semejantes\n",
    "\n",
    "Para simplificar expresiones que involucren términos semejantes, se suman o restan los coeficientes.\n",
    "\n",
    "##### Ejemplos:\n",
    "\n",
    "1. Simplifica la expresión $-7a + 3a$\n",
    "\n",
    "**Solución**:\n",
    "Se agrupan los coeficientes y se realiza la operación que da como resultado:\n",
    "\n",
    "$$-7a + 3a = (-7 + 3)a = -4a$$\n",
    "\n",
    "2. ¿Cuál es el resultado de simplificar la expresión $-6xy^{2} + 9xy^{2} - xy^{2}$?\n",
    "\n",
    "**Solución**:\n",
    "Se agrupan los coeficientes y se realiza la operación para obtener el resultado:\n",
    "\n",
    "$$-6xy^{2} + 9xy^{2} -xy^{2} = (-6 + 9 - 1)xy^{2} = 2xy^{2}$$"
   ]
  },
  {
   "cell_type": "markdown",
   "metadata": {},
   "source": [
    "##### Ejercicio (20):\n",
    "\n",
    "Simplifica:\n",
    "1. $3x - 8x$\n",
    "2. $6a^{2}b + 7a^{2}b$\n",
    "3. $-6xy^{2} - xy^{2} - 3xy^{2}$\n",
    "4. $4xy^{4}z^{3} - 4xy^{4}z^{3}$\n",
    "5. $-2a^{2}b + 12a^{2}b$\n",
    "6. $-3a + 5a - 10a$\n",
    "7. $4x - 3x - 2x$\n",
    "8. $7ab + 4ab - 3ab$\n",
    "12. $-3a^{x +1} + 2a^{x + 1} - a^{x + 1} + 2a^{x + 1}$"
   ]
  },
  {
   "cell_type": "code",
   "execution_count": 12,
   "metadata": {},
   "outputs": [
    {
     "name": "stdout",
     "output_type": "stream",
     "text": [
      "Ejemplo: 1\n"
     ]
    },
    {
     "data": {
      "text/latex": [
       "$\\displaystyle - 5 x$"
      ],
      "text/plain": [
       "-5*x"
      ]
     },
     "metadata": {},
     "output_type": "display_data"
    },
    {
     "name": "stdout",
     "output_type": "stream",
     "text": [
      "Ejemplo: 2\n"
     ]
    },
    {
     "data": {
      "text/latex": [
       "$\\displaystyle 13 a^{2} b$"
      ],
      "text/plain": [
       "13*a**2*b"
      ]
     },
     "metadata": {},
     "output_type": "display_data"
    },
    {
     "name": "stdout",
     "output_type": "stream",
     "text": [
      "Ejemplo: 3\n"
     ]
    },
    {
     "data": {
      "text/latex": [
       "$\\displaystyle - 10 x y^{2}$"
      ],
      "text/plain": [
       "-10*x*y**2"
      ]
     },
     "metadata": {},
     "output_type": "display_data"
    },
    {
     "name": "stdout",
     "output_type": "stream",
     "text": [
      "Ejemplo: 4\n"
     ]
    },
    {
     "data": {
      "text/latex": [
       "$\\displaystyle 0$"
      ],
      "text/plain": [
       "0"
      ]
     },
     "metadata": {},
     "output_type": "display_data"
    },
    {
     "name": "stdout",
     "output_type": "stream",
     "text": [
      "Ejemplo: 5\n"
     ]
    },
    {
     "data": {
      "text/latex": [
       "$\\displaystyle 10 a^{2} b$"
      ],
      "text/plain": [
       "10*a**2*b"
      ]
     },
     "metadata": {},
     "output_type": "display_data"
    },
    {
     "name": "stdout",
     "output_type": "stream",
     "text": [
      "Ejemplo: 6\n"
     ]
    },
    {
     "data": {
      "text/latex": [
       "$\\displaystyle - 8 a$"
      ],
      "text/plain": [
       "-8*a"
      ]
     },
     "metadata": {},
     "output_type": "display_data"
    },
    {
     "name": "stdout",
     "output_type": "stream",
     "text": [
      "Ejemplo: 7\n"
     ]
    },
    {
     "data": {
      "text/latex": [
       "$\\displaystyle - x$"
      ],
      "text/plain": [
       "-x"
      ]
     },
     "metadata": {},
     "output_type": "display_data"
    },
    {
     "name": "stdout",
     "output_type": "stream",
     "text": [
      "Ejemplo: 8\n"
     ]
    },
    {
     "data": {
      "text/latex": [
       "$\\displaystyle 8 a b$"
      ],
      "text/plain": [
       "8*a*b"
      ]
     },
     "metadata": {},
     "output_type": "display_data"
    },
    {
     "name": "stdout",
     "output_type": "stream",
     "text": [
      "Ejemplo: 9\n"
     ]
    },
    {
     "data": {
      "text/latex": [
       "$\\displaystyle 0$"
      ],
      "text/plain": [
       "0"
      ]
     },
     "metadata": {},
     "output_type": "display_data"
    }
   ],
   "source": [
    "import sympy as sp\n",
    "\n",
    "a, b, x, y, z = sp.symbols(\"a b x y z\")\n",
    "\n",
    "ejemplos = []\n",
    "\n",
    "ejemplo1 = (3*x - 8*x)\n",
    "ejemplo2 = (6*a**2 * b + 7*a**2 * b)\n",
    "ejemplo3 = (-6*x*y**2 - x*y**2 - 3*x*y**2)\n",
    "ejemplo4 = (4*x*y**4 * z**3 - 4*x*y**4 * z**3)\n",
    "ejemplo5 = (-2*a**2 *b + 12*a**2 * b)\n",
    "ejemplo6 = (-3*a + 5*a - 10*a)\n",
    "ejemplo7 = (4*x - 3*x - 2*x)\n",
    "ejemplo8 = (7*a*b + 4*a*b - 3*a*b)\n",
    "ejemplo9 = (-3*a**(x + 1) + 2*a**(x+1) - a**(x + 1) + 2*a**(x + 1)) # Es el 12\n",
    "\n",
    "ejemplos = [\n",
    "    ejemplo1,\n",
    "    ejemplo2,\n",
    "    ejemplo3,\n",
    "    ejemplo4,\n",
    "    ejemplo5,\n",
    "    ejemplo6,\n",
    "    ejemplo7,\n",
    "    ejemplo8,\n",
    "    ejemplo9\n",
    "]\n",
    "\n",
    "for index, ejemplo in enumerate(ejemplos):\n",
    "    print(f\"Ejemplo: {index + 1}\")\n",
    "    display(ejemplo)"
   ]
  },
  {
   "cell_type": "code",
   "execution_count": null,
   "metadata": {},
   "outputs": [],
   "source": []
  }
 ],
 "metadata": {
  "kernelspec": {
   "display_name": "Python 3",
   "language": "python",
   "name": "python3"
  },
  "language_info": {
   "codemirror_mode": {
    "name": "ipython",
    "version": 3
   },
   "file_extension": ".py",
   "mimetype": "text/x-python",
   "name": "python",
   "nbconvert_exporter": "python",
   "pygments_lexer": "ipython3",
   "version": "3.10.12"
  }
 },
 "nbformat": 4,
 "nbformat_minor": 2
}
