{
 "cells": [
  {
   "cell_type": "markdown",
   "metadata": {},
   "source": [
    "# Álgebra\n",
    "\n",
    "Rama de las matemáticas que trata a las cantidades de manera general."
   ]
  },
  {
   "cell_type": "markdown",
   "metadata": {},
   "source": [
    "## Expresiones algebraicas\n",
    "\n",
    "Se conoce así a la combinación de números reales (*constantes*) y literales o letras (*variables*) que representan cantidades, mediante operaciones de suma, resta, multiplicación, división, potenciación, etcétera.\n",
    "\n",
    "**Término algebraico**. Es un sumando de una expresión algebraica y representa una cantidad. A todo término algebraico se le denomina ***monomio*** y consta de: **coeficiente**, **base(s)** y **exponente(s)**.\n",
    "\n",
    "\n",
    "| Término                           | Coeficiente | Base(s)  | Exponente(s)  |\n",
    "|------------------------------------|-------------|----------|---------------|\n",
    "| $(-8y^3)$                          | $-8$      | $y$    | $3$         |\n",
    "| $\\frac{1}{3} mn^x$               | $\\frac{1}{3}$ | $m, n$ | $1, x$      |\n",
    "| $-\\frac{3}{4} (2x + 1)^{-2}$     | $-\\frac{3}{4}$ | $2x + 1$ | $-2$        |\n",
    "\n",
    "**Términos semejantes**. Dos o más términos son semejantes cuando los mismos exponentes afectan a la mismas bases.\n",
    "\n",
    "##### Ejemplos:\n",
    "\n",
    "Los siguientes términos tienen las mismas bases con sus respectivos exponentes iguales, por lo consiguiente son semejantes:\n",
    "\n",
    "$$-7b \\text{ con } 4b \\hspace{5cm} -8x^{2}y^{3} \\text{ con } 7x^{2}y^{3} \\hspace{5cm} \\frac{1}{6}abc^{2} \\text{ con } abc^{2}$$\n"
   ]
  },
  {
   "cell_type": "markdown",
   "metadata": {},
   "source": [
    "## Reducción de términos semejantes\n",
    "\n",
    "Para simplificar expresiones que involucren términos semejantes, se suman o restan los coeficientes.\n",
    "\n",
    "##### Ejemplos:\n",
    "\n",
    "1. Simplifica la expresión $-7a + 3a$\n",
    "\n",
    "**Solución**:\n",
    "Se agrupan los coeficientes y se realiza la operación que da como resultado:\n",
    "\n",
    "$$-7a + 3a = (-7 + 3)a = -4a$$\n",
    "\n",
    "2. ¿Cuál es el resultado de simplificar la expresión $-6xy^{2} + 9xy^{2} - xy^{2}$?\n",
    "\n",
    "**Solución**:\n",
    "Se agrupan los coeficientes y se realiza la operación para obtener el resultado:\n",
    "\n",
    "$$-6xy^{2} + 9xy^{2} -xy^{2} = (-6 + 9 - 1)xy^{2} = 2xy^{2}$$"
   ]
  },
  {
   "cell_type": "markdown",
   "metadata": {},
   "source": [
    "##### Ejercicio 20:\n",
    "\n",
    "Simplifica:\n",
    "1. $3x - 8x$\n",
    "2. $6a^{2}b + 7a^{2}b$\n",
    "3. $-6xy^{2} - xy^{2} - 3xy^{2}$\n",
    "4. $4xy^{4}z^{3} - 4xy^{4}z^{3}$\n",
    "5. $-2a^{2}b + 12a^{2}b$\n",
    "6. $-3a + 5a - 10a$\n",
    "7. $4x - 3x - 2x$\n",
    "8. $7ab + 4ab - 3ab$\n",
    "12. $-3a^{x +1} + 2a^{x + 1} - a^{x + 1} + 2a^{x + 1}$"
   ]
  },
  {
   "cell_type": "markdown",
   "metadata": {},
   "source": [
    "##### Ejercicio 20 (Respuestas):"
   ]
  },
  {
   "cell_type": "code",
   "execution_count": 12,
   "metadata": {},
   "outputs": [
    {
     "name": "stdout",
     "output_type": "stream",
     "text": [
      "Ejemplo: 1\n"
     ]
    },
    {
     "data": {
      "text/latex": [
       "$\\displaystyle - 5 x$"
      ],
      "text/plain": [
       "-5*x"
      ]
     },
     "metadata": {},
     "output_type": "display_data"
    },
    {
     "name": "stdout",
     "output_type": "stream",
     "text": [
      "Ejemplo: 2\n"
     ]
    },
    {
     "data": {
      "text/latex": [
       "$\\displaystyle 13 a^{2} b$"
      ],
      "text/plain": [
       "13*a**2*b"
      ]
     },
     "metadata": {},
     "output_type": "display_data"
    },
    {
     "name": "stdout",
     "output_type": "stream",
     "text": [
      "Ejemplo: 3\n"
     ]
    },
    {
     "data": {
      "text/latex": [
       "$\\displaystyle - 10 x y^{2}$"
      ],
      "text/plain": [
       "-10*x*y**2"
      ]
     },
     "metadata": {},
     "output_type": "display_data"
    },
    {
     "name": "stdout",
     "output_type": "stream",
     "text": [
      "Ejemplo: 4\n"
     ]
    },
    {
     "data": {
      "text/latex": [
       "$\\displaystyle 0$"
      ],
      "text/plain": [
       "0"
      ]
     },
     "metadata": {},
     "output_type": "display_data"
    },
    {
     "name": "stdout",
     "output_type": "stream",
     "text": [
      "Ejemplo: 5\n"
     ]
    },
    {
     "data": {
      "text/latex": [
       "$\\displaystyle 10 a^{2} b$"
      ],
      "text/plain": [
       "10*a**2*b"
      ]
     },
     "metadata": {},
     "output_type": "display_data"
    },
    {
     "name": "stdout",
     "output_type": "stream",
     "text": [
      "Ejemplo: 6\n"
     ]
    },
    {
     "data": {
      "text/latex": [
       "$\\displaystyle - 8 a$"
      ],
      "text/plain": [
       "-8*a"
      ]
     },
     "metadata": {},
     "output_type": "display_data"
    },
    {
     "name": "stdout",
     "output_type": "stream",
     "text": [
      "Ejemplo: 7\n"
     ]
    },
    {
     "data": {
      "text/latex": [
       "$\\displaystyle - x$"
      ],
      "text/plain": [
       "-x"
      ]
     },
     "metadata": {},
     "output_type": "display_data"
    },
    {
     "name": "stdout",
     "output_type": "stream",
     "text": [
      "Ejemplo: 8\n"
     ]
    },
    {
     "data": {
      "text/latex": [
       "$\\displaystyle 8 a b$"
      ],
      "text/plain": [
       "8*a*b"
      ]
     },
     "metadata": {},
     "output_type": "display_data"
    },
    {
     "name": "stdout",
     "output_type": "stream",
     "text": [
      "Ejemplo: 9\n"
     ]
    },
    {
     "data": {
      "text/latex": [
       "$\\displaystyle 0$"
      ],
      "text/plain": [
       "0"
      ]
     },
     "metadata": {},
     "output_type": "display_data"
    }
   ],
   "source": [
    "import sympy as sp\n",
    "\n",
    "a, b, x, y, z = sp.symbols(\"a b x y z\")\n",
    "\n",
    "ejemplos = []\n",
    "\n",
    "ejemplo1 = (3*x - 8*x)\n",
    "ejemplo2 = (6*a**2 * b + 7*a**2 * b)\n",
    "ejemplo3 = (-6*x*y**2 - x*y**2 - 3*x*y**2)\n",
    "ejemplo4 = (4*x*y**4 * z**3 - 4*x*y**4 * z**3)\n",
    "ejemplo5 = (-2*a**2 *b + 12*a**2 * b)\n",
    "ejemplo6 = (-3*a + 5*a - 10*a)\n",
    "ejemplo7 = (4*x - 3*x - 2*x)\n",
    "ejemplo8 = (7*a*b + 4*a*b - 3*a*b)\n",
    "ejemplo9 = (-3*a**(x + 1) + 2*a**(x+1) - a**(x + 1) + 2*a**(x + 1)) # Es el 12\n",
    "\n",
    "ejemplos = [\n",
    "    ejemplo1,\n",
    "    ejemplo2,\n",
    "    ejemplo3,\n",
    "    ejemplo4,\n",
    "    ejemplo5,\n",
    "    ejemplo6,\n",
    "    ejemplo7,\n",
    "    ejemplo8,\n",
    "    ejemplo9\n",
    "]\n",
    "\n",
    "for index, ejemplo in enumerate(ejemplos):\n",
    "    print(f\"Ejemplo: {index + 1}\")\n",
    "    display(ejemplo)"
   ]
  },
  {
   "cell_type": "markdown",
   "metadata": {},
   "source": [
    "## Valor numérico\n",
    "\n",
    "El valor numérico de una expresión algebraica se obtiene al sustitur las literales o letras con sus respectivos valores numéricos y entonces se realizan las operaciones indicadas.\n",
    "\n",
    "##### Ejemplo:\n",
    "\n",
    "Determina el valor numérico de la expresión: $x^{4} y^{2} z^{3}$; si $x = 4, y = 3, z = \\frac{1}{2}$\n",
    "\n",
    "**Solución**:\n",
    "\n",
    "Se sustituyen los respectivos valores de $x, y, z$ y se efectúan las operaciones indicadas para obtener el valor numérico de la expresión:\n",
    "\n",
    "$$x^{4}x^{2}z^{3} = (4)^{4} (3)^{2} \\left(\\frac{1}{2}\\right)^{3} = (256)(9)\\left(\\frac{1}{8}\\right) = \\frac{2304}{8} = 288$$"
   ]
  },
  {
   "cell_type": "markdown",
   "metadata": {},
   "source": [
    "##### Ejercicio 21:\n",
    "\n",
    "$$m = -2, n = 3, p = \\frac{1}{4}, x = \\frac{1}{3}, y = 10, z = \\frac{1}{2}$$\n",
    "\n",
    "1. $2m + n$\n",
    "2. $m - n + y$\n",
    "3. $8p + 3x$\n",
    "4. $\\frac{2z + 6x}{n}$\n",
    "5. $5m - 2n + 3y$\n",
    "6. $x + z - p$\n",
    "7. $\\frac{3x + 4z - 9}{n}$\n",
    "8. $\\frac{m}{n} \\left( \\frac{y}{2} + m + 6 \\right)$\n",
    "9. $\\frac{m^{2} + n^{2} + 1}{p + x}$\n",
    "10. $\\left( \\frac{z - x}{2m + n} \\right)^{2}$"
   ]
  },
  {
   "cell_type": "markdown",
   "metadata": {},
   "source": [
    "##### Ejercicio 21 (Respuestas):"
   ]
  },
  {
   "cell_type": "code",
   "execution_count": 10,
   "metadata": {},
   "outputs": [
    {
     "name": "stdout",
     "output_type": "stream",
     "text": [
      "Ejercicio 1\n"
     ]
    },
    {
     "data": {
      "text/plain": [
       "-1"
      ]
     },
     "metadata": {},
     "output_type": "display_data"
    },
    {
     "name": "stdout",
     "output_type": "stream",
     "text": [
      "Ejercicio 2\n"
     ]
    },
    {
     "data": {
      "text/plain": [
       "5"
      ]
     },
     "metadata": {},
     "output_type": "display_data"
    },
    {
     "name": "stdout",
     "output_type": "stream",
     "text": [
      "Ejercicio 3\n"
     ]
    },
    {
     "data": {
      "text/latex": [
       "$\\displaystyle 3$"
      ],
      "text/plain": [
       "3"
      ]
     },
     "metadata": {},
     "output_type": "display_data"
    },
    {
     "name": "stdout",
     "output_type": "stream",
     "text": [
      "Ejercicio 4\n"
     ]
    },
    {
     "data": {
      "text/latex": [
       "$\\displaystyle 1$"
      ],
      "text/plain": [
       "1"
      ]
     },
     "metadata": {},
     "output_type": "display_data"
    },
    {
     "name": "stdout",
     "output_type": "stream",
     "text": [
      "Ejercicio 5\n"
     ]
    },
    {
     "data": {
      "text/plain": [
       "14"
      ]
     },
     "metadata": {},
     "output_type": "display_data"
    },
    {
     "name": "stdout",
     "output_type": "stream",
     "text": [
      "Ejercicio 6\n"
     ]
    },
    {
     "data": {
      "text/latex": [
       "$\\displaystyle \\frac{7}{12}$"
      ],
      "text/plain": [
       "7/12"
      ]
     },
     "metadata": {},
     "output_type": "display_data"
    },
    {
     "name": "stdout",
     "output_type": "stream",
     "text": [
      "Ejercicio 7\n"
     ]
    },
    {
     "data": {
      "text/latex": [
       "$\\displaystyle -2$"
      ],
      "text/plain": [
       "-2"
      ]
     },
     "metadata": {},
     "output_type": "display_data"
    },
    {
     "name": "stdout",
     "output_type": "stream",
     "text": [
      "Ejercicio 8\n"
     ]
    },
    {
     "data": {
      "text/plain": [
       "-6.0"
      ]
     },
     "metadata": {},
     "output_type": "display_data"
    },
    {
     "name": "stdout",
     "output_type": "stream",
     "text": [
      "Ejercicio 9\n"
     ]
    },
    {
     "data": {
      "text/latex": [
       "$\\displaystyle 24$"
      ],
      "text/plain": [
       "24"
      ]
     },
     "metadata": {},
     "output_type": "display_data"
    },
    {
     "name": "stdout",
     "output_type": "stream",
     "text": [
      "Ejercicio 10\n"
     ]
    },
    {
     "data": {
      "text/latex": [
       "$\\displaystyle \\frac{1}{36}$"
      ],
      "text/plain": [
       "1/36"
      ]
     },
     "metadata": {},
     "output_type": "display_data"
    }
   ],
   "source": [
    "import sympy as sp\n",
    "\n",
    "m = (-2)\n",
    "n = 3\n",
    "p = sp.Rational(1, 4)\n",
    "x = sp.Rational(1, 3)\n",
    "y = 10\n",
    "z = sp.Rational(1, 2)\n",
    "\n",
    "ejercicios = []\n",
    "\n",
    "ejercicio1 = 2*m + n\n",
    "ejercicio2 = m - n + y\n",
    "ejercicio3 = 8*p + 3*x\n",
    "ejercicio4 = (2*z + 6*x)/n\n",
    "ejercicio5 = 5*m - 2*n + 3*y\n",
    "ejercicio6 = x + z - p\n",
    "ejercicio7 = (3*x + 4*z - 9) / n\n",
    "ejercicio8 = (m / n) * (y / 2 + m + 6)\n",
    "ejercicio9 = (m**2 + n**2 + 1)/(p + x)\n",
    "ejercicio10 = ((z-x)/(2*m + n))**2\n",
    "\n",
    "ejercicios = [\n",
    "    ejercicio1,\n",
    "    ejercicio2,\n",
    "    ejercicio3,\n",
    "    ejercicio4,\n",
    "    ejercicio5,\n",
    "    ejercicio6,\n",
    "    ejercicio7,\n",
    "    ejercicio8,\n",
    "    ejercicio9,\n",
    "    ejercicio10\n",
    "]\n",
    "\n",
    "for index, ejercicio in enumerate(ejercicios):\n",
    "    print(f\"Ejercicio {index + 1}\")\n",
    "    display(ejercicio)"
   ]
  },
  {
   "cell_type": "markdown",
   "metadata": {},
   "source": [
    "## Lenguaje algebraico\n",
    "\n",
    "Expresa oraciones de lenguaje común en términos algebraicos.\n",
    "\n",
    "| **Lenguaje común**                                                | **Lenguaje algebraico**     |\n",
    "|--------------------------------------------------------------------|-----------------------------|\n",
    "| 1. Un número cualquiera.                                           | $m$                     |\n",
    "| 2. Un número cualquiera aumentado en siete.                        | $j + 7$                 |\n",
    "| 3. La diferencia de dos números cualquiera.                        | $f - q$                 |\n",
    "| 4. El doble de un número excedido en cinco.                        | $2x + 5$                |\n",
    "| 5. La división de un número entero entre su antecesor.             | $\\frac{x}{x - 1}$       |\n",
    "| 6. La mitad de un número.                                          | $\\frac{d}{2}$           |\n",
    "| 7. El cuadrado de un número.                                       | $y^2$                   |\n",
    "| 8. La semisuma de dos números.                                     | $\\frac{b + c}{2}$       |\n",
    "| 9. Las dos terceras partes de un número disminuido en cinco es igual a 12. | $\\frac{2}{3}(x - 5) = 12$ |\n",
    "| 10. Tres números naturales consecutivos.                           | $x, x + 1, x + 2$       |\n",
    "| 11. La parte mayor de 1200, si la menor es $w$.                | $1200 - w$              |\n",
    "| 12. El cuadrado de un número aumentado en siete.                   | $b^2 + 7$               |\n",
    "| 13. Las tres quintas partes de un número más la mitad de su consecutivo equivalen a 3. | $\\frac{3}{5}p + \\frac{1}{2}(p + 1) = 3$ |\n",
    "| 14. La raíz cuadrada de la diferencia de dos cantidades.            | $\\sqrt{a - b}$          |\n",
    "| 15. El producto de un número positivo con su antecesor equivale a 30. | $x(x - 1) = 30$         |\n",
    "| 16. El cubo de un número más el triple del cuadrado de dicho número. | $x^3 + 3x^2$            |\n",
    "\n"
   ]
  },
  {
   "cell_type": "code",
   "execution_count": null,
   "metadata": {},
   "outputs": [],
   "source": []
  }
 ],
 "metadata": {
  "kernelspec": {
   "display_name": "Python 3",
   "language": "python",
   "name": "python3"
  },
  "language_info": {
   "codemirror_mode": {
    "name": "ipython",
    "version": 3
   },
   "file_extension": ".py",
   "mimetype": "text/x-python",
   "name": "python",
   "nbconvert_exporter": "python",
   "pygments_lexer": "ipython3",
   "version": "3.12.3"
  }
 },
 "nbformat": 4,
 "nbformat_minor": 2
}
