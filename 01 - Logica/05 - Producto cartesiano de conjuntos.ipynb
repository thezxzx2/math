{
 "cells": [
  {
   "attachments": {
    "image.png": {
     "image/png": "[encoded data removed]"
    }
   },
   "cell_type": "markdown",
   "metadata": {},
   "source": [
    "# Producto cartesiano de conjuntos\n",
    "\n",
    "Dados 2 conjuntos $A$ y $B$ no vacíos, el producto cartesiano es el producto $(A \\times B)$ que contiene a todas las parejas ordenadas, cuyo primer elemento pertenece al conjunto $A$ y su segundo elemento pertenece al conjunto $B$.\n",
    "\n",
    "$$A \\times B = \\{ (a,b) | a \\in A \\text{ y } b \\in B \\}$$\n",
    "\n",
    "##### Ejemplo:\n",
    "\n",
    "Si $A$ = $\\{1, 2\\}$ y $B$ = $\\{x, y\\}$, determina $A \\times B$.\n",
    "\n",
    "**Solución**\n",
    "\n",
    "Se asocia a cada uno de los elementos del primer conjunto, con todos los elementos del segundo conjunto:\n",
    "\n",
    "$$A \\times B = \\{ (1, x), (1, y), (2, x), (2, y) \\}$$\n",
    "\n",
    "Representación gráfica:\n",
    "\n",
    "![image.png](attachment:image.png)\n",
    "\n",
    "La representación gráfica también se conoce como diagrama sagital.\n",
    "\n",
    "___\n",
    "\n",
    "##### Ejemplo:\n",
    "\n",
    "Si $A$ = $\\{1, 2\\}$ y $B$ = $\\{2, 2, 4\\}\\$ y $C$ = $\\{3, 4, 6\\}$, halla $(A \\cup B) \\times (A \\cap C)$\n",
    "\n",
    "**Solución**\n",
    "\n",
    "Se halla el conjunto solución de las operaciones indicadas y posteriormente se realiza el producto cartesiano:\n",
    "\n",
    "- $A \\cup B = \\{1, 2, 3, 4\\}$\n",
    "- $B \\cap C = \\{3, 4\\}$\n",
    "\n",
    "$$(A \\cup B) \\times (B \\cap C)= \\{(1, 3), (1, 4), (2, 3), (2, 4), (3, 3), (3, 4), (4, 3), (4, 4)\\}$$"
   ]
  },
  {
   "cell_type": "markdown",
   "metadata": {},
   "source": [
    "##### Ejercicio 19\n",
    "\n",
    "Dados los siguientes conjuntos:\n",
    "\n",
    "$A = \\{1, 2, 3\\}, B = \\{2, 4\\} \\text{ y } C = \\{3, 5, 6\\}$\n",
    "\n",
    "Realiza los siguientes productos cartesianos y verifica que el resultado del inciso 6 es igual al obtenido en el inciso 7:\n",
    "\n",
    "1. $A \\times B$\n",
    "2. $A \\times C$\n",
    "3. $B \\times C$\n",
    "4. $B \\times A$\n",
    "5. $C \\times B$\n",
    "6. $A \\times (B \\times C)$\n",
    "7. $(A \\times B) \\times C$\n",
    "8. $(A \\cup B) \\times (A \\cap C)$\n",
    "9. $(A - B) \\times C$\n",
    "10. $(A - B) \\times (A \\cap C)$"
   ]
  },
  {
   "cell_type": "markdown",
   "metadata": {},
   "source": [
    "##### Ejercicio 19 (Respuestas):"
   ]
  },
  {
   "cell_type": "code",
   "execution_count": 53,
   "metadata": {},
   "outputs": [
    {
     "data": {
      "text/plain": [
       "'Ejercicio: 1'"
      ]
     },
     "metadata": {},
     "output_type": "display_data"
    },
    {
     "data": {
      "text/latex": [
       "$\\displaystyle \\left\\{1, 2, 3\\right\\} \\times \\left\\{2, 4\\right\\}$"
      ],
      "text/plain": [
       "ProductSet({1, 2, 3}, {2, 4})"
      ]
     },
     "metadata": {},
     "output_type": "display_data"
    },
    {
     "data": {
      "text/plain": [
       "'Ejercicio: 2'"
      ]
     },
     "metadata": {},
     "output_type": "display_data"
    },
    {
     "data": {
      "text/latex": [
       "$\\displaystyle \\left\\{1, 2, 3\\right\\} \\times \\left\\{3, 5, 6\\right\\}$"
      ],
      "text/plain": [
       "ProductSet({1, 2, 3}, {3, 5, 6})"
      ]
     },
     "metadata": {},
     "output_type": "display_data"
    },
    {
     "data": {
      "text/plain": [
       "'Ejercicio: 3'"
      ]
     },
     "metadata": {},
     "output_type": "display_data"
    },
    {
     "data": {
      "text/latex": [
       "$\\displaystyle \\left\\{2, 4\\right\\} \\times \\left\\{3, 5, 6\\right\\}$"
      ],
      "text/plain": [
       "ProductSet({2, 4}, {3, 5, 6})"
      ]
     },
     "metadata": {},
     "output_type": "display_data"
    },
    {
     "data": {
      "text/plain": [
       "'Ejercicio: 4'"
      ]
     },
     "metadata": {},
     "output_type": "display_data"
    },
    {
     "data": {
      "text/latex": [
       "$\\displaystyle \\left\\{2, 4\\right\\} \\times \\left\\{1, 2, 3\\right\\}$"
      ],
      "text/plain": [
       "ProductSet({2, 4}, {1, 2, 3})"
      ]
     },
     "metadata": {},
     "output_type": "display_data"
    },
    {
     "data": {
      "text/plain": [
       "'Ejercicio: 5'"
      ]
     },
     "metadata": {},
     "output_type": "display_data"
    },
    {
     "data": {
      "text/latex": [
       "$\\displaystyle \\left\\{3, 5, 6\\right\\} \\times \\left\\{2, 4\\right\\}$"
      ],
      "text/plain": [
       "ProductSet({3, 5, 6}, {2, 4})"
      ]
     },
     "metadata": {},
     "output_type": "display_data"
    },
    {
     "data": {
      "text/plain": [
       "'Ejercicio: 6'"
      ]
     },
     "metadata": {},
     "output_type": "display_data"
    },
    {
     "data": {
      "text/latex": [
       "$\\displaystyle \\left\\{1, 2, 3\\right\\} \\times \\left(\\left\\{2, 4\\right\\} \\times \\left\\{3, 5, 6\\right\\}\\right)$"
      ],
      "text/plain": [
       "ProductSet({1, 2, 3}, ProductSet({2, 4}, {3, 5, 6}))"
      ]
     },
     "metadata": {},
     "output_type": "display_data"
    },
    {
     "data": {
      "text/plain": [
       "'Ejercicio: 7'"
      ]
     },
     "metadata": {},
     "output_type": "display_data"
    },
    {
     "data": {
      "text/latex": [
       "$\\displaystyle \\left(\\left\\{1, 2, 3\\right\\} \\times \\left\\{2, 4\\right\\}\\right) \\times \\left\\{3, 5, 6\\right\\}$"
      ],
      "text/plain": [
       "ProductSet(ProductSet({1, 2, 3}, {2, 4}), {3, 5, 6})"
      ]
     },
     "metadata": {},
     "output_type": "display_data"
    },
    {
     "data": {
      "text/plain": [
       "'Ejercicio: 8'"
      ]
     },
     "metadata": {},
     "output_type": "display_data"
    },
    {
     "data": {
      "text/latex": [
       "$\\displaystyle \\left\\{1, 2, 3, 4\\right\\} \\times \\left\\{3\\right\\}$"
      ],
      "text/plain": [
       "ProductSet({1, 2, 3, 4}, {3})"
      ]
     },
     "metadata": {},
     "output_type": "display_data"
    },
    {
     "data": {
      "text/plain": [
       "'Ejercicio: 9'"
      ]
     },
     "metadata": {},
     "output_type": "display_data"
    },
    {
     "data": {
      "text/latex": [
       "$\\displaystyle \\left\\{1, 3\\right\\} \\times \\left\\{3, 5, 6\\right\\}$"
      ],
      "text/plain": [
       "ProductSet({1, 3}, {3, 5, 6})"
      ]
     },
     "metadata": {},
     "output_type": "display_data"
    },
    {
     "data": {
      "text/plain": [
       "'Ejercicio: 10'"
      ]
     },
     "metadata": {},
     "output_type": "display_data"
    },
    {
     "data": {
      "text/latex": [
       "$\\displaystyle \\left\\{1, 2\\right\\} \\times \\left\\{3\\right\\}$"
      ],
      "text/plain": [
       "ProductSet({1, 2}, {3})"
      ]
     },
     "metadata": {},
     "output_type": "display_data"
    }
   ],
   "source": [
    "import sympy as sp\n",
    "\n",
    "A = sp.FiniteSet(1, 2, 3)\n",
    "B = sp.FiniteSet(2, 4)\n",
    "C = sp.FiniteSet(3, 5, 6)\n",
    "\n",
    "ejercicios = []\n",
    "\n",
    "ejercicio1 = A * B\n",
    "ejercicio2 = A * C\n",
    "ejercicio3 = B * C\n",
    "ejercicio4 = B * A\n",
    "ejercicio5 = C * B\n",
    "ejercicio6 = A * (B * C)\n",
    "ejercicio7 = (A * B) * C\n",
    "ejercicio8 = (A | B) * (A & C)\n",
    "ejercicio9 = (A - B) * C\n",
    "ejercicio10 = (A - C) * (A & C)\n",
    "\n",
    "ejercicios = [ejercicio1, ejercicio2, ejercicio3, ejercicio4, ejercicio5, ejercicio6, ejercicio7, ejercicio8, ejercicio9, ejercicio10]\n",
    "\n",
    "for i, v in enumerate(ejercicios):\n",
    "    display(f\"Ejercicio: {i + 1}\")\n",
    "    display(v)\n",
    "\n",
    "# display(ejercicio1,\n",
    "#         ejercicio2,\n",
    "#         ejercicio3,\n",
    "#         ejercicio4,\n",
    "#         ejercicio5,\n",
    "#         ejercicio6,\n",
    "#         ejercicio7,\n",
    "#         ejercicio8,\n",
    "#         ejercicio9,\n",
    "#         ejercicio10\n",
    "#     )"
   ]
  },
  {
   "cell_type": "code",
   "execution_count": 54,
   "metadata": {},
   "outputs": [
    {
     "data": {
      "text/plain": [
       "'Ejercicio: 1'"
      ]
     },
     "metadata": {},
     "output_type": "display_data"
    },
    {
     "data": {
      "text/plain": [
       "{(1, 2), (1, 4), (2, 2), (2, 4), (3, 2), (3, 4)}"
      ]
     },
     "metadata": {},
     "output_type": "display_data"
    },
    {
     "data": {
      "text/plain": [
       "'Ejercicio: 2'"
      ]
     },
     "metadata": {},
     "output_type": "display_data"
    },
    {
     "data": {
      "text/plain": [
       "{(1, 3), (1, 5), (1, 6), (2, 3), (2, 5), (2, 6), (3, 3), (3, 5), (3, 6)}"
      ]
     },
     "metadata": {},
     "output_type": "display_data"
    },
    {
     "data": {
      "text/plain": [
       "'Ejercicio: 3'"
      ]
     },
     "metadata": {},
     "output_type": "display_data"
    },
    {
     "data": {
      "text/plain": [
       "{(2, 3), (2, 5), (2, 6), (4, 3), (4, 5), (4, 6)}"
      ]
     },
     "metadata": {},
     "output_type": "display_data"
    },
    {
     "data": {
      "text/plain": [
       "'Ejercicio: 4'"
      ]
     },
     "metadata": {},
     "output_type": "display_data"
    },
    {
     "data": {
      "text/plain": [
       "{(2, 1), (2, 2), (2, 3), (4, 1), (4, 2), (4, 3)}"
      ]
     },
     "metadata": {},
     "output_type": "display_data"
    },
    {
     "data": {
      "text/plain": [
       "'Ejercicio: 5'"
      ]
     },
     "metadata": {},
     "output_type": "display_data"
    },
    {
     "data": {
      "text/plain": [
       "{(3, 2), (3, 4), (5, 2), (5, 4), (6, 2), (6, 4)}"
      ]
     },
     "metadata": {},
     "output_type": "display_data"
    },
    {
     "data": {
      "text/plain": [
       "'Ejercicio: 6'"
      ]
     },
     "metadata": {},
     "output_type": "display_data"
    },
    {
     "data": {
      "text/plain": [
       "{(1, (2, 3)),\n",
       " (1, (2, 5)),\n",
       " (1, (2, 6)),\n",
       " (1, (4, 3)),\n",
       " (1, (4, 5)),\n",
       " (1, (4, 6)),\n",
       " (2, (2, 3)),\n",
       " (2, (2, 5)),\n",
       " (2, (2, 6)),\n",
       " (2, (4, 3)),\n",
       " (2, (4, 5)),\n",
       " (2, (4, 6)),\n",
       " (3, (2, 3)),\n",
       " (3, (2, 5)),\n",
       " (3, (2, 6)),\n",
       " (3, (4, 3)),\n",
       " (3, (4, 5)),\n",
       " (3, (4, 6))}"
      ]
     },
     "metadata": {},
     "output_type": "display_data"
    },
    {
     "data": {
      "text/plain": [
       "'Ejercicio: 7'"
      ]
     },
     "metadata": {},
     "output_type": "display_data"
    },
    {
     "data": {
      "text/plain": [
       "{((1, 2), 3),\n",
       " ((1, 2), 5),\n",
       " ((1, 2), 6),\n",
       " ((1, 4), 3),\n",
       " ((1, 4), 5),\n",
       " ((1, 4), 6),\n",
       " ((2, 2), 3),\n",
       " ((2, 2), 5),\n",
       " ((2, 2), 6),\n",
       " ((2, 4), 3),\n",
       " ((2, 4), 5),\n",
       " ((2, 4), 6),\n",
       " ((3, 2), 3),\n",
       " ((3, 2), 5),\n",
       " ((3, 2), 6),\n",
       " ((3, 4), 3),\n",
       " ((3, 4), 5),\n",
       " ((3, 4), 6)}"
      ]
     },
     "metadata": {},
     "output_type": "display_data"
    },
    {
     "data": {
      "text/plain": [
       "'Ejercicio: 8'"
      ]
     },
     "metadata": {},
     "output_type": "display_data"
    },
    {
     "data": {
      "text/plain": [
       "{(1, 3), (2, 3), (3, 3), (4, 3)}"
      ]
     },
     "metadata": {},
     "output_type": "display_data"
    },
    {
     "data": {
      "text/plain": [
       "'Ejercicio: 9'"
      ]
     },
     "metadata": {},
     "output_type": "display_data"
    },
    {
     "data": {
      "text/plain": [
       "{(1, 3), (1, 5), (1, 6), (3, 3), (3, 5), (3, 6)}"
      ]
     },
     "metadata": {},
     "output_type": "display_data"
    },
    {
     "data": {
      "text/plain": [
       "'Ejercicio: 10'"
      ]
     },
     "metadata": {},
     "output_type": "display_data"
    },
    {
     "data": {
      "text/plain": [
       "{(1, 3), (2, 3)}"
      ]
     },
     "metadata": {},
     "output_type": "display_data"
    }
   ],
   "source": [
    "for i, v in enumerate(ejercicios):\n",
    "    display(f\"Ejercicio: {i + 1}\")\n",
    "    display(set(v))"
   ]
  }
 ],
 "metadata": {
  "kernelspec": {
   "display_name": "Python 3",
   "language": "python",
   "name": "python3"
  },
  "language_info": {
   "codemirror_mode": {
    "name": "ipython",
    "version": 3
   },
   "file_extension": ".py",
   "mimetype": "text/x-python",
   "name": "python",
   "nbconvert_exporter": "python",
   "pygments_lexer": "ipython3",
   "version": "3.10.12"
  }
 },
 "nbformat": 4,
 "nbformat_minor": 2
}
