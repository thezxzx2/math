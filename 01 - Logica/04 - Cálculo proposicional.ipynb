{
 "cells": [
  {
   "cell_type": "markdown",
   "metadata": {},
   "source": [
    "# Cálculo proposicional\n",
    "\n",
    "Cuando una proposición se construye a partir de otras proposiciones, mediante conectivos lógicos, el valor de veerdad lo determinan los valores de verdad de las proposiciones originales.\n",
    "\n",
    "El número de valores de verdad está dado por $2^n$ donde $n$ representa el número de proposiciones.\n",
    "\n",
    "Para verificar el valor de verdad de una proposición se utilizan las siguientes tablas."
   ]
  },
  {
   "cell_type": "markdown",
   "metadata": {},
   "source": [
    "### Tabla de verdad para la disyunción\n",
    "\n",
    "La disyunción es verdadera, si una o las dos proposiciones $z$ son verdaderas.\n",
    "\n",
    "\n",
    "| $( p )$ | $( q )$ | $( p \\lor q )$ |\n",
    "|--------|--------|--------------|\n",
    "|   V    |   V    |      V       |\n",
    "|   V    |   F    |      V       |\n",
    "|   F    |   V    |      V       |\n",
    "|   F    |   F    |      F       |\n",
    "\n"
   ]
  },
  {
   "cell_type": "markdown",
   "metadata": {},
   "source": [
    "### Tabla de verdad para la conjunción\n",
    "\n",
    "La conjunción es verdadera, si las dos proposiciones son verdaderas.\n",
    "\n",
    "\n",
    "| $( p )$ | $( q )$ | $( p \\land q )$ |\n",
    "|--------|--------|---------------|\n",
    "|   V    |   V    |       V       |\n",
    "|   V    |   F    |       F       |\n",
    "|   F    |   V    |       F       |\n",
    "|   F    |   F    |       F       |"
   ]
  },
  {
   "cell_type": "markdown",
   "metadata": {},
   "source": [
    "### Tabla de verdad para la implicación\n",
    "\n",
    "La implicación es falsa, si la primera proposición es verdadera y la segunda falsa.\n",
    "\n",
    "| $( p )$ | $( q )$ | $( p \\Rightarrow q $) |\n",
    "|--------|--------|--------------|\n",
    "|   V    |   V    |      V       |\n",
    "|   V    |   F    |      F       |\n",
    "|   F    |   V    |      V       |\n",
    "|   F    |   F    |      V       |"
   ]
  },
  {
   "cell_type": "markdown",
   "metadata": {},
   "source": [
    "### Tabla de verdad para la doble implicación\n",
    "\n",
    "La doble implicación es verdadera, si las dos proposiciones son verdaderas o las dos son falsas.\n",
    "\n",
    "| $( p )$ | $( q )$ | $( p \\Leftrightarrow q )$ |\n",
    "|--------|--------|-------------------------|\n",
    "|   V    |   V    |           V             |\n",
    "|   V    |   F    |           F             |\n",
    "|   F    |   V    |           F             |\n",
    "|   F    |   F    |           V             |\n"
   ]
  },
  {
   "cell_type": "markdown",
   "metadata": {},
   "source": [
    "### Tabla de verdad para la negación\n",
    "\n",
    "En la negación de una proposición, su valor de verdad es el contrario del original.\n",
    "\n",
    "\n",
    "| $( p )$ | $( \\sim p )$ |\n",
    "|--------|--------------|\n",
    "|   V    |      F       |\n",
    "|   F    |      V       |"
   ]
  },
  {
   "cell_type": "markdown",
   "metadata": {},
   "source": [
    "##### Ejercicio 17\n",
    "\n",
    "Indica el valor de verdad de las siguientes proposiciones\n",
    "\n",
    "1. $a = \"\\text{4 es número par y 5 es múltiplo de 2}\"$\n",
    "2. $b = \"\\text{La víbora no es un reptil o el canario un pez}\"$\n",
    "3. $c = \"\\text{Si 21 es múltiplo de 7, entonces 21 es múltiplo de 2}\"$\n",
    "4. $d = \"\\text{La guacamaya es un pez, si y sólo si el tiburón es un ave}\"$\n",
    "5. $e = \"\\text{Si el oro es un metal, entonces es un buen conductor de electricidad}\"$\n",
    "6. $f = \"\\text{3 es divisor de 18 o 18 es múltiplo de 24}\"$"
   ]
  },
  {
   "cell_type": "markdown",
   "metadata": {},
   "source": [
    "##### Ejercicio 17 (Respuestas)\n",
    "\n",
    "1. Falso\n",
    "2. Falso\n",
    "3. Falso\n",
    "4. Verdadero\n",
    "5. Verdadero\n",
    "6. Verdadero"
   ]
  },
  {
   "cell_type": "markdown",
   "metadata": {},
   "source": [
    "#### Construcción de las tablas de verdad\n",
    "\n",
    "Una tabla de verdad se construye paso a paso, al establecer los valores correspondientes de cada suboperación involucrada, hasta llegar a la expresión dada.\n",
    "\n",
    "Después de construir una tabla de verdad, el resultado puede ser una **tautología**, una **contradicción** o una **contingencia**.\n",
    "\n",
    "- **Tautología**. Proposición compuesta en la que todas las combinaciones de valores son verdaderas.\n",
    "- **Contradicción**. Proposición compuesta en la cual todas las combinaciones de valores son falsas.\n",
    "- **Contingencia**. Proposición compuesta en donde las combinaciones de valores son verdaderas y falsas."
   ]
  }
 ],
 "metadata": {
  "language_info": {
   "name": "python"
  }
 },
 "nbformat": 4,
 "nbformat_minor": 2
}
