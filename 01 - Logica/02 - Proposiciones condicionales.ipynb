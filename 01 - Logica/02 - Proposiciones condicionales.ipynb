{
 "cells": [
  {
   "cell_type": "markdown",
   "metadata": {},
   "source": [
    "# Proposiciones condicionales\n",
    "\n",
    "**Conversa de la implicación**. Si $p \\Rightarrow q$, la conversa se define como: $q \\Rightarrow p$.\n",
    "\n",
    "**Contrapositiva de una implicación**. Si $p \\Rightarrow q$, la contrapositiva se define como: $\\sim q \\Rightarrow \\sim p$.\n",
    "\n",
    "**Inversa de una implicación**. Si $p \\Rightarrow q$, la inversa se define como: $\\sim p \\Rightarrow \\sim q$."
   ]
  },
  {
   "cell_type": "markdown",
   "metadata": {},
   "source": [
    "##### Ejercicio 15\n",
    "\n",
    "Determina la conversa, contrapositiva e inversa de las siguientes implicaciones:\n",
    "\n",
    "1. $p \\Rightarrow q$ = \"Si 3 es divisor de 6, entonces no es par\"\n",
    "2. $p \\Rightarrow q$ = \"Si $x$ es múltiplo de 5, entonces es divisor de 25\"\n",
    "3. $p \\Rightarrow q$ = \"Si un triángulo es un polígono, entonces no es un cuadrilátero\"\n",
    "4. $p \\Rightarrow q$ = \"Si Marte no es un planeta, entonces la Luna es un satélite\"\n",
    "5. $p \\Rightarrow q$ = \"Si 17 es un número primo, entonces no es múltiplo de 50\""
   ]
  },
  {
   "cell_type": "markdown",
   "metadata": {},
   "source": [
    "##### Ejercicio 15 (Soluciones)\n",
    "\n",
    "1. $p \\Rightarrow q$\n",
    "   - **Conversa**: Si 3 no es par, entonces es divisor de 6.\n",
    "   - **Contrapositiva**: Si 3 es par, entonces no es divisor de 6.\n",
    "   - **Inversa**: Si 3 no es divisor de 6, entonces es par.\n",
    "\n",
    "2. $p \\Rightarrow q$\n",
    "   - **Conversa**: Si $x$ es divisor de 25, entonces es múltiplo de 5.\n",
    "   - **Contrapositiva**: Si $x$ no es divisor de 25, entonces no es múltiplo de 5.\n",
    "   - **Inversa**: Si $x$ no es múltiplo de 5, entonces no es divisor de 25.\n",
    "\n",
    "3. $p \\Rightarrow q$\n",
    "   - **Conversa**: Si un triángulo no es un cuadrilátero, entonces es un polígono.\n",
    "   - **Contrapositiva**: Si un triángulo es un cuadrilátero, entonces no es un polígono.\n",
    "   - **Inversa**: Si un triángulo no es un polígono, entonces es un cuadrilátero.\n",
    "\n",
    "4. $p \\Rightarrow q$\n",
    "   - **Conversa**: Si la Luna es un satélite, entonces Marte no es un planeta.\n",
    "   - **Contrapositiva**: Si la Luna no es un satélite, entonces Marte es un planeta.\n",
    "   - **Inversa**: Si Marte es un planeta, entonces la Luna no es un satélite.\n",
    "\n",
    "1. $p \\Rightarrow q$\n",
    "   - **Conversa**: Si 17 no es múltiplo de 50, entonces es número primo.\n",
    "   - **Contrapositiva**: Si 17 es múltiplo de 50, entonces no es número primo.\n",
    "   - **Inversa**: Si 17 no es número primo, enetonces es múltiplo de 50.\n"
   ]
  }
 ],
 "metadata": {
  "language_info": {
   "name": "python"
  }
 },
 "nbformat": 4,
 "nbformat_minor": 2
}
