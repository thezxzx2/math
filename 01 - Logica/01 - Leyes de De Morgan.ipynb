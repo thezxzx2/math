{
 "cells": [
  {
   "cell_type": "markdown",
   "metadata": {},
   "source": [
    "# Leyes de De Morgan\n",
    "\n",
    "La negación de una disyunción es la conjunción de las negaciones de sus proposiciones.\n",
    "\n",
    "$$\\sim (p \\lor q) = \\sim p \\land \\sim q$$\n",
    "\n",
    "La negación de una conjunción es la disyunción de las negaciones de sus proposiciones:\n",
    "$$\\sim (p \\lor q) = \\sim p \\lor \\sim q$$"
   ]
  },
  {
   "cell_type": "markdown",
   "metadata": {},
   "source": [
    "##### Ejercicio 14\n",
    "\n",
    "Niega las siguientes proposiciones compuestas:\n",
    "\n",
    "1. a = \"España está en Europa o 6 es número par\"\n",
    "2. b = \"Los perros ladran y 12 es múltiplo de 3\"\n",
    "3. c = \"5 es un número par y no es múltiplo de 15\"\n",
    "4. d = \"7 no es primo o es divisor de 21\"\n",
    "5. e = \"6 no es número impar y el tucán no es un ave\""
   ]
  },
  {
   "cell_type": "markdown",
   "metadata": {},
   "source": [
    "##### Ejercicio 14 (Respuestas)\n",
    "\n",
    "1. $\\sim a$ = \"España no está en Europa y 6 no es número par\"\n",
    "2. $\\sim b$ = \"Los perros no ladran o 12 no es múltiplo de 3\"\n",
    "3. $\\sim c$ = \"5 no es un número par o es múltiplo de 15\"\n",
    "4. $\\sim d$ = \"7 es primo y es divisor de 21\"\n",
    "5. $\\sim e$ = \"6 es número impar o el tucán es una ave\""
   ]
  },
  {
   "cell_type": "markdown",
   "metadata": {},
   "source": []
  }
 ],
 "metadata": {
  "kernelspec": {
   "display_name": "Python 3",
   "language": "python",
   "name": "python3"
  },
  "language_info": {
   "codemirror_mode": {
    "name": "ipython",
    "version": 3
   },
   "file_extension": ".py",
   "mimetype": "text/x-python",
   "name": "python",
   "nbconvert_exporter": "python",
   "pygments_lexer": "ipython3",
   "version": "3.12.3"
  }
 },
 "nbformat": 4,
 "nbformat_minor": 2
}
